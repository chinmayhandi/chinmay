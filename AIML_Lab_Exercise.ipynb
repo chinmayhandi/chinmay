{
  "cells": [
    {
      "cell_type": "markdown",
      "metadata": {
        "id": "view-in-github",
        "colab_type": "text"
      },
      "source": [
        "<a href=\"https://colab.research.google.com/github/chinmayhandi/chinmay/blob/chinmay/AIML_Lab_Exercise.ipynb\" target=\"_parent\"><img src=\"https://colab.research.google.com/assets/colab-badge.svg\" alt=\"Open In Colab\"/></a>"
      ]
    },
    {
      "cell_type": "markdown",
      "metadata": {
        "id": "uQI_Vk_ewg0t"
      },
      "source": [
        "# Numpy and Pandas Program\n",
        "\n",
        "---\n",
        "\n"
      ]
    },
    {
      "cell_type": "markdown",
      "metadata": {
        "id": "oneLpscYxdw-"
      },
      "source": [
        "# **NumPy and Pandas Program in Python**\n",
        "1. Perform Arithmetic operations\n",
        "2. How do you create a 2D NumPy array and access specific elements?\n",
        "3. Add Two Arrays Element-wise\n",
        "4. Generate Random Numbers and Find Max/Min\n",
        "5. Reshape and Flatten an Array\n",
        "6. Filter Elements Using Boolean Masking\n",
        "7. Matrix Multiplication\n",
        "8. Calculate Mean, Median, and Standard Deviation\n",
        "9. Create a Range of Values\n",
        "10. Transpose of a Matrix\n",
        "11. Element-wise Operations with Functions\n",
        "12. Create and Display a DataFrame\n",
        "13. Read a CSV File and Show Basic Info\n",
        "13. Read a CSV File and Show Basic Info\n",
        "15. Group By and Aggregate\n",
        "16. Add a New Column and Save to CSV\n",
        "17. Line Graph\n",
        "18. Bar Graph\n",
        "19. Pie Chart\n",
        "20. Histogram\n",
        "21. Scatter Plot\n"
      ]
    },
    {
      "cell_type": "code",
      "execution_count": null,
      "metadata": {
        "colab": {
          "base_uri": "https://localhost:8080/"
        },
        "id": "IdzrlEGb3Daq",
        "outputId": "01e65cd8-d7ea-4df7-ad6f-49ebb5e91a01"
      },
      "outputs": [
        {
          "name": "stdout",
          "output_type": "stream",
          "text": [
            "Array a: [1 2 3 4 5]\n",
            "Array b: [10 20 30 40 50]\n",
            "Sum: [11 22 33 44 55]\n",
            "Difference: [ 9 18 27 36 45]\n",
            "Product: [ 10  40  90 160 250]\n",
            "Mean of a: 3.0\n",
            "Max of b: 50\n",
            "Min of b: 10\n"
          ]
        }
      ],
      "source": [
        "#1. Perform Arithmetic operations\n",
        "import numpy as np\n",
        "# Create NumPy arrays\n",
        "a = np.array([1, 2, 3, 4, 5])\n",
        "b = np.array([10, 20, 30, 40, 50])\n",
        "# Arithmetic operations\n",
        "sum_array = a + b\n",
        "diff_array = b - a\n",
        "product_array = a * b\n",
        "# Statistics\n",
        "mean_a = np.mean(a)\n",
        "max_b = np.max(b)\n",
        "min_b = np.min(b)\n",
        "# Display results\n",
        "print(\"Array a:\", a)\n",
        "print(\"Array b:\", b)\n",
        "print(\"Sum:\", sum_array)\n",
        "print(\"Difference:\", diff_array)\n",
        "print(\"Product:\", product_array)\n",
        "print(\"Mean of a:\", mean_a)\n",
        "print(\"Max of b:\", max_b)\n",
        "print(\"Min of b:\", min_b)\n"
      ]
    },
    {
      "cell_type": "code",
      "execution_count": null,
      "metadata": {
        "colab": {
          "base_uri": "https://localhost:8080/"
        },
        "id": "de7hgHSJ3TZ3",
        "outputId": "807d8db6-397a-432d-bf26-3aeb195e3a72"
      },
      "outputs": [
        {
          "name": "stdout",
          "output_type": "stream",
          "text": [
            "Element at (0, 1): 2\n",
            "Second row: [4 5 6]\n",
            "[[1 2 3]\n",
            " [4 5 6]]\n"
          ]
        }
      ],
      "source": [
        "#2. How do you create a 2D NumPy array and access specific elements?\n",
        "import numpy as np\n",
        "# Create a 2D array\n",
        "arr = np.array([[1, 2, 3], [4, 5, 6]])\n",
        "\n",
        "# Access elements\n",
        "print(\"Element at (0, 1):\", arr[0, 1])\n",
        "print(\"Second row:\", arr[1])\n",
        "print(arr)\n"
      ]
    },
    {
      "cell_type": "code",
      "execution_count": null,
      "metadata": {
        "colab": {
          "base_uri": "https://localhost:8080/"
        },
        "id": "gto6wtog3giy",
        "outputId": "add3f864-2a22-4975-d09b-06ffd02714fb"
      },
      "outputs": [
        {
          "name": "stdout",
          "output_type": "stream",
          "text": [
            "Sum: [ 6 12 18]\n"
          ]
        }
      ],
      "source": [
        "#3. Add Two Arrays Element-wise\n",
        "a = np.array([5, 10, 15])\n",
        "b = np.array([1, 2, 3])\n",
        "\n",
        "# Add arrays\n",
        "result = a + b\n",
        "print(\"Sum:\", result)\n"
      ]
    },
    {
      "cell_type": "code",
      "execution_count": null,
      "metadata": {
        "colab": {
          "base_uri": "https://localhost:8080/"
        },
        "id": "842gdkzB89ac",
        "outputId": "b3439629-7f07-4fc6-bf8f-fcb2d57a363e"
      },
      "outputs": [
        {
          "name": "stdout",
          "output_type": "stream",
          "text": [
            "Random Array: [80 18 92 45 85 11 18 99 68 98]\n",
            "Maximum: 99\n",
            "Minimum: 11\n"
          ]
        }
      ],
      "source": [
        "#4. Generate Random Numbers and Find Max/Min\n",
        "import numpy as np\n",
        "rand_array = np.random.randint(1, 100, size=10)\n",
        "print(\"Random Array:\", rand_array)\n",
        "print(\"Maximum:\", np.max(rand_array))\n",
        "print(\"Minimum:\", np.min(rand_array))\n"
      ]
    },
    {
      "cell_type": "code",
      "execution_count": null,
      "metadata": {
        "colab": {
          "base_uri": "https://localhost:8080/"
        },
        "id": "xaQe9nUi9IBM",
        "outputId": "c0993dc1-a92a-4564-d4dc-6cf7033cb9ba"
      },
      "outputs": [
        {
          "name": "stdout",
          "output_type": "stream",
          "text": [
            "Reshaped (2x3):\n",
            " [[1 2 3]\n",
            " [4 5 6]]\n",
            "Flattened: [1 2 3 4 5 6]\n"
          ]
        }
      ],
      "source": [
        "#5. Reshape and Flatten an Array\n",
        "#How can you change the shape of an array?\n",
        "\n",
        "import numpy as np\n",
        "arr = np.array([1, 2, 3, 4, 5, 6])\n",
        "# Reshape to 2x3 matrix\n",
        "reshaped = arr.reshape(2, 3)\n",
        "print(\"Reshaped (2x3):\\n\", reshaped)\n",
        "\n",
        "# Flatten back to 1D\n",
        "flattened = reshaped.flatten()\n",
        "print(\"Flattened:\", flattened)\n"
      ]
    },
    {
      "cell_type": "code",
      "execution_count": null,
      "metadata": {
        "colab": {
          "base_uri": "https://localhost:8080/"
        },
        "id": "VQmjJu1_9aXC",
        "outputId": "066a30ad-3e21-493f-aca6-3c9a4d1dc7fa"
      },
      "outputs": [
        {
          "name": "stdout",
          "output_type": "stream",
          "text": [
            "Elements > 25: [30 40 50]\n"
          ]
        }
      ],
      "source": [
        "#6. Filter Elements Using Boolean Masking\n",
        "#How do you filter array elements based on a condition?\n",
        "\n",
        "import numpy as np\n",
        "arr = np.array([10, 20, 30, 40, 50])\n",
        "# Condition: elements > 25\n",
        "filtered = arr[arr > 25]\n",
        "print(\"Elements > 25:\", filtered)\n"
      ]
    },
    {
      "cell_type": "code",
      "execution_count": null,
      "metadata": {
        "colab": {
          "base_uri": "https://localhost:8080/"
        },
        "id": "P2yXJEVC9oIN",
        "outputId": "1f37fe28-824e-4c07-969d-228fd9dabf93"
      },
      "outputs": [
        {
          "name": "stdout",
          "output_type": "stream",
          "text": [
            "Matrix A:\n",
            " [[1 2]\n",
            " [3 4]]\n",
            "Matrix B:\n",
            " [[5 6]\n",
            " [7 8]]\n",
            "A x B:\n",
            " [[19 22]\n",
            " [43 50]]\n"
          ]
        }
      ],
      "source": [
        "#7. Matrix Multiplication\n",
        "#How do you multiply two matrices in NumPy?\n",
        "\n",
        "import numpy as np\n",
        "\n",
        "A = np.array([[1, 2], [3, 4]])\n",
        "B = np.array([[5, 6], [7, 8]])\n",
        "\n",
        "# Matrix multiplication\n",
        "result = np.dot(A, B)\n",
        "\n",
        "print(\"Matrix A:\\n\", A)\n",
        "print(\"Matrix B:\\n\", B)\n",
        "print(\"A x B:\\n\", result)\n"
      ]
    },
    {
      "cell_type": "code",
      "execution_count": null,
      "metadata": {
        "colab": {
          "base_uri": "https://localhost:8080/"
        },
        "id": "HnWBmHG19t_9",
        "outputId": "394fee9a-fa7b-43fb-b5c7-ea59b4f38172"
      },
      "outputs": [
        {
          "name": "stdout",
          "output_type": "stream",
          "text": [
            "Mean: 3.5\n",
            "Median: 3.5\n",
            "Standard Deviation: 1.707825127659933\n"
          ]
        }
      ],
      "source": [
        "#8. Calculate Mean, Median, and Standard Deviation\n",
        "#How do you calculate basic statistics using NumPy?\n",
        "data = np.array([1, 2, 3, 4, 5, 6])\n",
        "\n",
        "print(\"Mean:\", np.mean(data))\n",
        "print(\"Median:\", np.median(data))\n",
        "print(\"Standard Deviation:\", np.std(data))\n"
      ]
    },
    {
      "cell_type": "code",
      "execution_count": null,
      "metadata": {
        "colab": {
          "base_uri": "https://localhost:8080/"
        },
        "id": "ktLidJ7k91U0",
        "outputId": "b779d9d4-2633-4f56-e93c-05ba388fabc0"
      },
      "outputs": [
        {
          "name": "stdout",
          "output_type": "stream",
          "text": [
            "Arange: [0 1 2 3 4 5 6 7 8 9]\n",
            "Linspace: [0.         0.6981317  1.3962634  2.0943951  2.7925268  3.4906585\n",
            " 4.1887902  4.88692191 5.58505361 6.28318531]\n"
          ]
        }
      ],
      "source": [
        "#9. Create a Range of Values\n",
        "#How do you create a range of evenly spaced values?\n",
        "# From 0 to 9\n",
        "a = np.arange(0, 10)\n",
        "\n",
        "# From 0 to 2π with 10 values\n",
        "b = np.linspace(0, 2 * np.pi, 10)\n",
        "\n",
        "print(\"Arange:\", a)\n",
        "print(\"Linspace:\", b)\n"
      ]
    },
    {
      "cell_type": "code",
      "execution_count": null,
      "metadata": {
        "colab": {
          "base_uri": "https://localhost:8080/"
        },
        "id": "cWpAw0Dq98Eb",
        "outputId": "393073b8-8852-4c04-9616-9d8a673d843c"
      },
      "outputs": [
        {
          "name": "stdout",
          "output_type": "stream",
          "text": [
            "Original:\n",
            " [[1 2 3]\n",
            " [4 5 6]]\n",
            "Transposed:\n",
            " [[1 4]\n",
            " [2 5]\n",
            " [3 6]]\n"
          ]
        }
      ],
      "source": [
        "#10. Transpose of a Matrix\n",
        "#How do you transpose a matrix in NumPy?\n",
        "\n",
        "matrix = np.array([[1, 2, 3], [4, 5, 6]])\n",
        "\n",
        "transpose = matrix.T\n",
        "\n",
        "print(\"Original:\\n\", matrix)\n",
        "print(\"Transposed:\\n\", transpose)\n"
      ]
    },
    {
      "cell_type": "code",
      "execution_count": null,
      "metadata": {
        "colab": {
          "base_uri": "https://localhost:8080/"
        },
        "id": "Vbtto6c--JRU",
        "outputId": "87d62cc7-53ea-4427-c273-33e796a98f01"
      },
      "outputs": [
        {
          "name": "stdout",
          "output_type": "stream",
          "text": [
            "x values: [0.         1.57079633 3.14159265]\n",
            "sin(x): [0.0000000e+00 1.0000000e+00 1.2246468e-16]\n"
          ]
        }
      ],
      "source": [
        "#11. Element-wise Operations with Functions\n",
        "#How do you apply mathematical functions to an array?\n",
        "x = np.array([0, np.pi/2, np.pi])\n",
        "\n",
        "# Apply sine function\n",
        "y = np.sin(x)\n",
        "\n",
        "print(\"x values:\", x)\n",
        "print(\"sin(x):\", y)\n",
        "\n",
        "\n"
      ]
    },
    {
      "cell_type": "code",
      "execution_count": null,
      "metadata": {
        "colab": {
          "base_uri": "https://localhost:8080/"
        },
        "id": "dIZriCR3-ZuS",
        "outputId": "78949f54-9110-4169-d17f-4062274542f0"
      },
      "outputs": [
        {
          "name": "stdout",
          "output_type": "stream",
          "text": [
            "      Name  Age  Score\n",
            "0    Alice   25     85\n",
            "1      Bob   30     90\n",
            "2  Charlie   22     95\n"
          ]
        }
      ],
      "source": [
        "#12. Create and Display a DataFrame\n",
        "import pandas as pd\n",
        "# Create DataFrame\n",
        "data = {\n",
        "    'Name': ['Alice', 'Bob', 'Charlie'],\n",
        "    'Age': [25, 30, 22],\n",
        "    'Score': [85, 90, 95]\n",
        "}\n",
        "\n",
        "df = pd.DataFrame(data)\n",
        "print(df)\n"
      ]
    },
    {
      "cell_type": "code",
      "execution_count": null,
      "metadata": {
        "colab": {
          "base_uri": "https://localhost:8080/",
          "height": 356
        },
        "id": "7qrY3bg2gfaT",
        "outputId": "f401b4d5-2c4c-41ed-a947-278380bc5951"
      },
      "outputs": [
        {
          "ename": "FileNotFoundError",
          "evalue": "[Errno 2] No such file or directory: '/content/students.csv'",
          "output_type": "error",
          "traceback": [
            "\u001b[0;31m---------------------------------------------------------------------------\u001b[0m",
            "\u001b[0;31mFileNotFoundError\u001b[0m                         Traceback (most recent call last)",
            "\u001b[0;32m/tmp/ipython-input-115-674925632.py\u001b[0m in \u001b[0;36m<cell line: 0>\u001b[0;34m()\u001b[0m\n\u001b[1;32m      1\u001b[0m \u001b[0;31m#13\u001b[0m\u001b[0;34m\u001b[0m\u001b[0;34m\u001b[0m\u001b[0m\n\u001b[1;32m      2\u001b[0m \u001b[0;32mimport\u001b[0m \u001b[0mpandas\u001b[0m \u001b[0;32mas\u001b[0m \u001b[0mpd\u001b[0m\u001b[0;34m\u001b[0m\u001b[0;34m\u001b[0m\u001b[0m\n\u001b[0;32m----> 3\u001b[0;31m \u001b[0mdf\u001b[0m\u001b[0;34m=\u001b[0m\u001b[0mpd\u001b[0m\u001b[0;34m.\u001b[0m\u001b[0mread_csv\u001b[0m\u001b[0;34m(\u001b[0m\u001b[0;34m\"/content/students.csv\"\u001b[0m\u001b[0;34m)\u001b[0m\u001b[0;34m\u001b[0m\u001b[0;34m\u001b[0m\u001b[0m\n\u001b[0m\u001b[1;32m      4\u001b[0m \u001b[0mprint\u001b[0m\u001b[0;34m(\u001b[0m\u001b[0mdf\u001b[0m\u001b[0;34m.\u001b[0m\u001b[0mhead\u001b[0m\u001b[0;34m(\u001b[0m\u001b[0;34m)\u001b[0m\u001b[0;34m)\u001b[0m\u001b[0;34m\u001b[0m\u001b[0;34m\u001b[0m\u001b[0m\n",
            "\u001b[0;32m/usr/local/lib/python3.11/dist-packages/pandas/io/parsers/readers.py\u001b[0m in \u001b[0;36mread_csv\u001b[0;34m(filepath_or_buffer, sep, delimiter, header, names, index_col, usecols, dtype, engine, converters, true_values, false_values, skipinitialspace, skiprows, skipfooter, nrows, na_values, keep_default_na, na_filter, verbose, skip_blank_lines, parse_dates, infer_datetime_format, keep_date_col, date_parser, date_format, dayfirst, cache_dates, iterator, chunksize, compression, thousands, decimal, lineterminator, quotechar, quoting, doublequote, escapechar, comment, encoding, encoding_errors, dialect, on_bad_lines, delim_whitespace, low_memory, memory_map, float_precision, storage_options, dtype_backend)\u001b[0m\n\u001b[1;32m   1024\u001b[0m     \u001b[0mkwds\u001b[0m\u001b[0;34m.\u001b[0m\u001b[0mupdate\u001b[0m\u001b[0;34m(\u001b[0m\u001b[0mkwds_defaults\u001b[0m\u001b[0;34m)\u001b[0m\u001b[0;34m\u001b[0m\u001b[0;34m\u001b[0m\u001b[0m\n\u001b[1;32m   1025\u001b[0m \u001b[0;34m\u001b[0m\u001b[0m\n\u001b[0;32m-> 1026\u001b[0;31m     \u001b[0;32mreturn\u001b[0m \u001b[0m_read\u001b[0m\u001b[0;34m(\u001b[0m\u001b[0mfilepath_or_buffer\u001b[0m\u001b[0;34m,\u001b[0m \u001b[0mkwds\u001b[0m\u001b[0;34m)\u001b[0m\u001b[0;34m\u001b[0m\u001b[0;34m\u001b[0m\u001b[0m\n\u001b[0m\u001b[1;32m   1027\u001b[0m \u001b[0;34m\u001b[0m\u001b[0m\n\u001b[1;32m   1028\u001b[0m \u001b[0;34m\u001b[0m\u001b[0m\n",
            "\u001b[0;32m/usr/local/lib/python3.11/dist-packages/pandas/io/parsers/readers.py\u001b[0m in \u001b[0;36m_read\u001b[0;34m(filepath_or_buffer, kwds)\u001b[0m\n\u001b[1;32m    618\u001b[0m \u001b[0;34m\u001b[0m\u001b[0m\n\u001b[1;32m    619\u001b[0m     \u001b[0;31m# Create the parser.\u001b[0m\u001b[0;34m\u001b[0m\u001b[0;34m\u001b[0m\u001b[0m\n\u001b[0;32m--> 620\u001b[0;31m     \u001b[0mparser\u001b[0m \u001b[0;34m=\u001b[0m \u001b[0mTextFileReader\u001b[0m\u001b[0;34m(\u001b[0m\u001b[0mfilepath_or_buffer\u001b[0m\u001b[0;34m,\u001b[0m \u001b[0;34m**\u001b[0m\u001b[0mkwds\u001b[0m\u001b[0;34m)\u001b[0m\u001b[0;34m\u001b[0m\u001b[0;34m\u001b[0m\u001b[0m\n\u001b[0m\u001b[1;32m    621\u001b[0m \u001b[0;34m\u001b[0m\u001b[0m\n\u001b[1;32m    622\u001b[0m     \u001b[0;32mif\u001b[0m \u001b[0mchunksize\u001b[0m \u001b[0;32mor\u001b[0m \u001b[0miterator\u001b[0m\u001b[0;34m:\u001b[0m\u001b[0;34m\u001b[0m\u001b[0;34m\u001b[0m\u001b[0m\n",
            "\u001b[0;32m/usr/local/lib/python3.11/dist-packages/pandas/io/parsers/readers.py\u001b[0m in \u001b[0;36m__init__\u001b[0;34m(self, f, engine, **kwds)\u001b[0m\n\u001b[1;32m   1618\u001b[0m \u001b[0;34m\u001b[0m\u001b[0m\n\u001b[1;32m   1619\u001b[0m         \u001b[0mself\u001b[0m\u001b[0;34m.\u001b[0m\u001b[0mhandles\u001b[0m\u001b[0;34m:\u001b[0m \u001b[0mIOHandles\u001b[0m \u001b[0;34m|\u001b[0m \u001b[0;32mNone\u001b[0m \u001b[0;34m=\u001b[0m \u001b[0;32mNone\u001b[0m\u001b[0;34m\u001b[0m\u001b[0;34m\u001b[0m\u001b[0m\n\u001b[0;32m-> 1620\u001b[0;31m         \u001b[0mself\u001b[0m\u001b[0;34m.\u001b[0m\u001b[0m_engine\u001b[0m \u001b[0;34m=\u001b[0m \u001b[0mself\u001b[0m\u001b[0;34m.\u001b[0m\u001b[0m_make_engine\u001b[0m\u001b[0;34m(\u001b[0m\u001b[0mf\u001b[0m\u001b[0;34m,\u001b[0m \u001b[0mself\u001b[0m\u001b[0;34m.\u001b[0m\u001b[0mengine\u001b[0m\u001b[0;34m)\u001b[0m\u001b[0;34m\u001b[0m\u001b[0;34m\u001b[0m\u001b[0m\n\u001b[0m\u001b[1;32m   1621\u001b[0m \u001b[0;34m\u001b[0m\u001b[0m\n\u001b[1;32m   1622\u001b[0m     \u001b[0;32mdef\u001b[0m \u001b[0mclose\u001b[0m\u001b[0;34m(\u001b[0m\u001b[0mself\u001b[0m\u001b[0;34m)\u001b[0m \u001b[0;34m->\u001b[0m \u001b[0;32mNone\u001b[0m\u001b[0;34m:\u001b[0m\u001b[0;34m\u001b[0m\u001b[0;34m\u001b[0m\u001b[0m\n",
            "\u001b[0;32m/usr/local/lib/python3.11/dist-packages/pandas/io/parsers/readers.py\u001b[0m in \u001b[0;36m_make_engine\u001b[0;34m(self, f, engine)\u001b[0m\n\u001b[1;32m   1878\u001b[0m                 \u001b[0;32mif\u001b[0m \u001b[0;34m\"b\"\u001b[0m \u001b[0;32mnot\u001b[0m \u001b[0;32min\u001b[0m \u001b[0mmode\u001b[0m\u001b[0;34m:\u001b[0m\u001b[0;34m\u001b[0m\u001b[0;34m\u001b[0m\u001b[0m\n\u001b[1;32m   1879\u001b[0m                     \u001b[0mmode\u001b[0m \u001b[0;34m+=\u001b[0m \u001b[0;34m\"b\"\u001b[0m\u001b[0;34m\u001b[0m\u001b[0;34m\u001b[0m\u001b[0m\n\u001b[0;32m-> 1880\u001b[0;31m             self.handles = get_handle(\n\u001b[0m\u001b[1;32m   1881\u001b[0m                 \u001b[0mf\u001b[0m\u001b[0;34m,\u001b[0m\u001b[0;34m\u001b[0m\u001b[0;34m\u001b[0m\u001b[0m\n\u001b[1;32m   1882\u001b[0m                 \u001b[0mmode\u001b[0m\u001b[0;34m,\u001b[0m\u001b[0;34m\u001b[0m\u001b[0;34m\u001b[0m\u001b[0m\n",
            "\u001b[0;32m/usr/local/lib/python3.11/dist-packages/pandas/io/common.py\u001b[0m in \u001b[0;36mget_handle\u001b[0;34m(path_or_buf, mode, encoding, compression, memory_map, is_text, errors, storage_options)\u001b[0m\n\u001b[1;32m    871\u001b[0m         \u001b[0;32mif\u001b[0m \u001b[0mioargs\u001b[0m\u001b[0;34m.\u001b[0m\u001b[0mencoding\u001b[0m \u001b[0;32mand\u001b[0m \u001b[0;34m\"b\"\u001b[0m \u001b[0;32mnot\u001b[0m \u001b[0;32min\u001b[0m \u001b[0mioargs\u001b[0m\u001b[0;34m.\u001b[0m\u001b[0mmode\u001b[0m\u001b[0;34m:\u001b[0m\u001b[0;34m\u001b[0m\u001b[0;34m\u001b[0m\u001b[0m\n\u001b[1;32m    872\u001b[0m             \u001b[0;31m# Encoding\u001b[0m\u001b[0;34m\u001b[0m\u001b[0;34m\u001b[0m\u001b[0m\n\u001b[0;32m--> 873\u001b[0;31m             handle = open(\n\u001b[0m\u001b[1;32m    874\u001b[0m                 \u001b[0mhandle\u001b[0m\u001b[0;34m,\u001b[0m\u001b[0;34m\u001b[0m\u001b[0;34m\u001b[0m\u001b[0m\n\u001b[1;32m    875\u001b[0m                 \u001b[0mioargs\u001b[0m\u001b[0;34m.\u001b[0m\u001b[0mmode\u001b[0m\u001b[0;34m,\u001b[0m\u001b[0;34m\u001b[0m\u001b[0;34m\u001b[0m\u001b[0m\n",
            "\u001b[0;31mFileNotFoundError\u001b[0m: [Errno 2] No such file or directory: '/content/students.csv'"
          ]
        }
      ],
      "source": [
        "#13\n",
        "import pandas as pd\n",
        "df=pd.read_csv(\"/content/students.csv\")\n",
        "print(df.head())\n"
      ]
    },
    {
      "cell_type": "code",
      "execution_count": null,
      "metadata": {
        "colab": {
          "base_uri": "https://localhost:8080/"
        },
        "id": "bdTFJXHWiYhK",
        "outputId": "87729132-2624-4072-bed7-879e4b3be371"
      },
      "outputs": [
        {
          "name": "stdout",
          "output_type": "stream",
          "text": [
            "   Name  Age\n",
            "1  Ravi   29\n"
          ]
        }
      ],
      "source": [
        "#14\n",
        "import pandas as pd\n",
        "\n",
        "data = {\n",
        "    'Name': ['Asha', 'Ravi'],\n",
        "    'Age': [24, 29]\n",
        "}\n",
        "\n",
        "df = pd.DataFrame(data)\n",
        "Filter_df = df[df['Age'] > 24]\n",
        "print(Filter_df)\n"
      ]
    },
    {
      "cell_type": "code",
      "execution_count": null,
      "metadata": {
        "id": "BYOV7TuQlR-3"
      },
      "outputs": [],
      "source": [
        "#15\n",
        "import pandas as pd\n",
        "\n",
        "data = {\n",
        "    'department': ['CS', 'EC', 'EE'],\n",
        "    'Marks': [87.23, 95, 78]\n",
        "}\n",
        "\n",
        "df = pd.DataFrame(data)\n",
        "grouped = df.groupby('department').mean(numeric_only=True)\n",
        "print(grouped)\n"
      ]
    },
    {
      "cell_type": "code",
      "execution_count": null,
      "metadata": {
        "id": "YuZ_f4dfwwgK"
      },
      "outputs": [],
      "source": [
        "#17\n",
        "import matplotlib.pyplot as plt\n",
        "\n",
        "x = [1, 2, 3, 4, 5]\n",
        "y = [10, 12, 15, 18, 20]\n",
        "\n",
        "plt.plot(x, y)\n",
        "plt.title(\"Simple Line Graph\")\n",
        "plt.xlabel(\"X values\")\n",
        "plt.ylabel(\"Y values\")\n",
        "plt.show()\n"
      ]
    },
    {
      "cell_type": "code",
      "execution_count": null,
      "metadata": {
        "id": "EOHlZYg_xBQD"
      },
      "outputs": [],
      "source": [
        "#18\n",
        "import matplotlib.pyplot as plt\n",
        "\n",
        "students = ['Asha', 'Ravi', 'Neha']\n",
        "scores = [85, 90, 78]\n",
        "\n",
        "plt.bar(students, scores, color='skyblue')\n",
        "plt.title(\"Student Scores\")\n",
        "plt.xlabel(\"Students\")\n",
        "plt.ylabel(\"Marks\")\n",
        "plt.show()\n"
      ]
    },
    {
      "cell_type": "code",
      "execution_count": null,
      "metadata": {
        "id": "sqH-T4c3xIpJ"
      },
      "outputs": [],
      "source": [
        "#19\n",
        "import matplotlib.pyplot as plt\n",
        "\n",
        "labels = ['Python', 'Java', 'C++', 'C']\n",
        "sizes = [40, 25, 20, 15]\n",
        "\n",
        "plt.pie(sizes, labels=labels, autopct='%1.1f%%', startangle=140)\n",
        "plt.title(\"Programming Language Usage\")\n",
        "plt.axis('equal')  # Make it a circle\n",
        "plt.show()\n"
      ]
    },
    {
      "cell_type": "code",
      "execution_count": null,
      "metadata": {
        "colab": {
          "base_uri": "https://localhost:8080/",
          "height": 472
        },
        "id": "ISKZPUOKxP0K",
        "outputId": "6521be2b-21b6-406d-84e8-8377761b8497"
      },
      "outputs": [
        {
          "data": {
            "image/png": "[encoded data removed]",
            "text/plain": [
              "<Figure size 640x480 with 1 Axes>"
            ]
          },
          "metadata": {},
          "output_type": "display_data"
        }
      ],
      "source": [
        "#20\n",
        "import matplotlib.pyplot as plt\n",
        "\n",
        "ages = [18, 22, 21, 25, 30, 30, 27, 25, 22, 19]\n",
        "\n",
        "plt.hist(ages, bins=5, color='green')\n",
        "plt.title(\"Age Distribution\")\n",
        "plt.xlabel(\"Age\")\n",
        "plt.ylabel(\"Frequency\")\n",
        "plt.show()\n"
      ]
    },
    {
      "cell_type": "code",
      "execution_count": null,
      "metadata": {
        "colab": {
          "base_uri": "https://localhost:8080/",
          "height": 472
        },
        "id": "QcBRXs9lxV2J",
        "outputId": "97ac4906-9016-4080-c98f-1f0e2160ab51"
      },
      "outputs": [
        {
          "data": {
            "image/png": "[encoded data removed]",
            "text/plain": [
              "<Figure size 640x480 with 1 Axes>"
            ]
          },
          "metadata": {},
          "output_type": "display_data"
        }
      ],
      "source": [
        "#21\n",
        "import matplotlib.pyplot as plt\n",
        "\n",
        "x = [1, 2, 3, 4, 5]\n",
        "y = [5, 7, 6, 8, 10]\n",
        "\n",
        "plt.scatter(x, y, color='red')\n",
        "plt.title(\"Scatter Plot Example\")\n",
        "plt.xlabel(\"X values\")\n",
        "plt.ylabel(\"Y values\")\n",
        "plt.show()\n"
      ]
    },
    {
      "cell_type": "markdown",
      "metadata": {
        "id": "KvHC12JUatcV"
      },
      "source": [
        "### **Lambda**"
      ]
    },
    {
      "cell_type": "code",
      "execution_count": null,
      "metadata": {
        "colab": {
          "base_uri": "https://localhost:8080/"
        },
        "id": "WXP0EpFxKTKe",
        "outputId": "3a21682d-4156-4682-e742-163a599f3cdd"
      },
      "outputs": [
        {
          "name": "stdout",
          "output_type": "stream",
          "text": [
            "8\n"
          ]
        }
      ],
      "source": [
        "add = lambda x, y: x + y\n",
        "print(add(5, 3))"
      ]
    },
    {
      "cell_type": "code",
      "execution_count": null,
      "metadata": {
        "colab": {
          "base_uri": "https://localhost:8080/"
        },
        "id": "sCX6zDIHLWoz",
        "outputId": "eaad5e9a-6b31-41eb-f7c3-317aa74230df"
      },
      "outputs": [
        {
          "name": "stdout",
          "output_type": "stream",
          "text": [
            "16\n"
          ]
        }
      ],
      "source": [
        "square = lambda x: x ** 2\n",
        "print(square(4))\n"
      ]
    },
    {
      "cell_type": "code",
      "execution_count": null,
      "metadata": {
        "colab": {
          "base_uri": "https://localhost:8080/"
        },
        "id": "Pugx-b_OL9FM",
        "outputId": "5eaf6ead-f246-4ed6-9a28-2e3488a8d4ec"
      },
      "outputs": [
        {
          "name": "stdout",
          "output_type": "stream",
          "text": [
            "[2, 4, 6]\n"
          ]
        }
      ],
      "source": [
        "numbers = [1, 2, 3, 4, 5, 6]\n",
        "even_numbers = list(filter(lambda x: x % 2 == 0, numbers))\n",
        "print(even_numbers)\n"
      ]
    },
    {
      "cell_type": "code",
      "execution_count": null,
      "metadata": {
        "colab": {
          "base_uri": "https://localhost:8080/"
        },
        "id": "V0ToIxx1NIaY",
        "outputId": "ee610642-993a-4df2-eaa6-dd22ed008fc5"
      },
      "outputs": [
        {
          "name": "stdout",
          "output_type": "stream",
          "text": [
            "[(1, 'apple'), (3, 'banana'), (2, 'cherry')]\n"
          ]
        }
      ],
      "source": [
        "data = [(1, 'apple'), (3, 'banana'), (2, 'cherry')]\n",
        "sorted_data = sorted(data, key=lambda x: x[1])\n",
        "print(sorted_data)\n",
        "\n"
      ]
    },
    {
      "cell_type": "code",
      "execution_count": null,
      "metadata": {
        "colab": {
          "base_uri": "https://localhost:8080/"
        },
        "id": "WZRVGcmcNpF0",
        "outputId": "8df24129-9d2d-4378-99ca-d5a5090ef650"
      },
      "outputs": [
        {
          "name": "stdout",
          "output_type": "stream",
          "text": [
            "24\n"
          ]
        }
      ],
      "source": [
        "multiply = lambda x, y, z: x * y * z\n",
        "print(multiply(2, 3, 4))\n"
      ]
    },
    {
      "cell_type": "code",
      "execution_count": null,
      "metadata": {
        "colab": {
          "base_uri": "https://localhost:8080/"
        },
        "id": "Aiv7xHCUNqIO",
        "outputId": "3c779039-37bd-4d72-bf0a-9e181b490dc8"
      },
      "outputs": [
        {
          "name": "stdout",
          "output_type": "stream",
          "text": [
            "[2, 4, 6, 8, 10]\n"
          ]
        }
      ],
      "source": [
        "numbers = [1, 2, 3, 4, 5]\n",
        "doubled = list(map(lambda x: x * 2, numbers))\n",
        "print(doubled)\n"
      ]
    },
    {
      "cell_type": "code",
      "execution_count": null,
      "metadata": {
        "colab": {
          "base_uri": "https://localhost:8080/"
        },
        "id": "VIjK0xp_Nucy",
        "outputId": "f0b62fc2-a6cd-436a-9044-2fd7978dbd5d"
      },
      "outputs": [
        {
          "name": "stdout",
          "output_type": "stream",
          "text": [
            "[15, 25]\n"
          ]
        }
      ],
      "source": [
        "numbers = [10, 15, 20, 25, 30]\n",
        "odds = list(filter(lambda x: x % 2 != 0, numbers))\n",
        "print(odds)\n",
        "\n"
      ]
    },
    {
      "cell_type": "code",
      "execution_count": null,
      "metadata": {
        "colab": {
          "base_uri": "https://localhost:8080/"
        },
        "id": "TWc0x0UmNzB3",
        "outputId": "0d745819-b222-450d-e180-e63d9435057f"
      },
      "outputs": [
        {
          "name": "stdout",
          "output_type": "stream",
          "text": [
            "[{'name': 'Charlie', 'score': 78}, {'name': 'Alice', 'score': 85}, {'name': 'Bob', 'score': 92}]\n"
          ]
        }
      ],
      "source": [
        "students = [\n",
        "    {\"name\": \"Alice\", \"score\": 85},\n",
        "    {\"name\": \"Bob\", \"score\": 92},\n",
        "    {\"name\": \"Charlie\", \"score\": 78}\n",
        "]\n",
        "\n",
        "\n",
        "sorted_students = sorted(students, key=lambda student: student['score'])\n",
        "print(sorted_students)\n",
        "\n"
      ]
    },
    {
      "cell_type": "code",
      "execution_count": null,
      "metadata": {
        "colab": {
          "base_uri": "https://localhost:8080/"
        },
        "id": "iy_1UDO-N4_Y",
        "outputId": "14a6c9c8-909c-46b8-81f8-99597c9a6e19"
      },
      "outputs": [
        {
          "name": "stdout",
          "output_type": "stream",
          "text": [
            "10\n",
            "15\n"
          ]
        }
      ],
      "source": [
        "def make_multiplier(n):\n",
        "    return lambda x: x * n\n",
        "\n",
        "double = make_multiplier(2)\n",
        "triple = make_multiplier(3)\n",
        "\n",
        "print(double(5))\n",
        "print(triple(5))\n",
        "\n"
      ]
    },
    {
      "cell_type": "code",
      "execution_count": null,
      "metadata": {
        "colab": {
          "base_uri": "https://localhost:8080/"
        },
        "id": "cF2jCke3N77q",
        "outputId": "bb50e50e-a3d0-4031-f51e-d162b1329bb7"
      },
      "outputs": [
        {
          "name": "stdout",
          "output_type": "stream",
          "text": [
            "Even\n",
            "Odd\n"
          ]
        }
      ],
      "source": [
        "check_even = lambda x: \"Even\" if x % 2 == 0 else \"Odd\"\n",
        "print(check_even(4))\n",
        "print(check_even(7))\n"
      ]
    },
    {
      "cell_type": "code",
      "execution_count": null,
      "metadata": {
        "colab": {
          "base_uri": "https://localhost:8080/"
        },
        "id": "4pQ-PsdnOCNL",
        "outputId": "01bae860-e90b-47db-d925-215e24f76d70"
      },
      "outputs": [
        {
          "name": "stdout",
          "output_type": "stream",
          "text": [
            "24\n"
          ]
        }
      ],
      "source": [
        "from functools import reduce\n",
        "\n",
        "numbers = [1, 2, 3, 4]\n",
        "product = reduce(lambda x, y: x * y, numbers)\n",
        "print(product)\n",
        "\n"
      ]
    },
    {
      "cell_type": "code",
      "execution_count": null,
      "metadata": {
        "colab": {
          "base_uri": "https://localhost:8080/"
        },
        "id": "xElkbReWOK0y",
        "outputId": "20ee6d05-c68b-43b6-bbb8-6732ee62d799"
      },
      "outputs": [
        {
          "name": "stdout",
          "output_type": "stream",
          "text": [
            "['John', 'Doe', 'Alice']\n"
          ]
        }
      ],
      "source": [
        "names = [\"john\", \"DOE\", \"ALICE\"]\n",
        "capitalized = list(map(lambda name: name.capitalize(), names))\n",
        "print(capitalized)\n"
      ]
    },
    {
      "cell_type": "code",
      "execution_count": null,
      "metadata": {
        "colab": {
          "base_uri": "https://localhost:8080/"
        },
        "id": "OuxZm5tFOPaO",
        "outputId": "b76d0474-c4e7-46ca-a8f8-59d22f450311"
      },
      "outputs": [
        {
          "name": "stdout",
          "output_type": "stream",
          "text": [
            "['example.com', 'test.com']\n"
          ]
        }
      ],
      "source": [
        "emails = [\"alice@example.com\", \"bob@test.com\"]\n",
        "domains = list(map(lambda email: email.split('@')[1], emails))\n",
        "print(domains)\n"
      ]
    },
    {
      "cell_type": "code",
      "execution_count": null,
      "metadata": {
        "colab": {
          "base_uri": "https://localhost:8080/"
        },
        "id": "HNWdVhKzOVPM",
        "outputId": "2a9a9817-b97d-47ff-8788-27dab431bf6c"
      },
      "outputs": [
        {
          "name": "stdout",
          "output_type": "stream",
          "text": [
            "True\n",
            "True\n"
          ]
        }
      ],
      "source": [
        "numbers = [2, 4, 6, 8]\n",
        "\n",
        "\n",
        "all_even = all(map(lambda x: x % 2 == 0, numbers))\n",
        "print(all_even)\n",
        "\n",
        "\n",
        "any_gt_5 = any(map(lambda x: x > 5, numbers))\n",
        "print(any_gt_5)\n"
      ]
    },
    {
      "cell_type": "code",
      "execution_count": null,
      "metadata": {
        "colab": {
          "base_uri": "https://localhost:8080/"
        },
        "id": "hvfFaX3IOYxj",
        "outputId": "bdc39632-0d02-4c61-c8c6-66aff01e5121"
      },
      "outputs": [
        {
          "name": "stdout",
          "output_type": "stream",
          "text": [
            "['fig', 'apple', 'banana', 'cherry']\n"
          ]
        }
      ],
      "source": [
        "words = [\"apple\", \"banana\", \"cherry\", \"fig\"]\n",
        "sorted_words = sorted(words, key=lambda word: len(word))\n",
        "print(sorted_words)\n"
      ]
    },
    {
      "cell_type": "code",
      "execution_count": null,
      "metadata": {
        "colab": {
          "base_uri": "https://localhost:8080/"
        },
        "id": "K5URcfwfOdFD",
        "outputId": "c7bdb294-200a-4651-fe7d-059aab8ee6d9"
      },
      "outputs": [
        {
          "name": "stdout",
          "output_type": "stream",
          "text": [
            "adbmal snoitcnuf era lufrewop\n"
          ]
        }
      ],
      "source": [
        "sentence = \"lambda functions are powerful\"\n",
        "reversed_words = list(map(lambda word: word[::-1], sentence.split()))\n",
        "print(\" \".join(reversed_words))\n",
        "\n",
        "\n"
      ]
    },
    {
      "cell_type": "code",
      "execution_count": null,
      "metadata": {
        "colab": {
          "base_uri": "https://localhost:8080/"
        },
        "id": "Cioz4qNDOgMG",
        "outputId": "cc3def8d-1f9e-4069-f440-c4ee62f3d43b"
      },
      "outputs": [
        {
          "name": "stdout",
          "output_type": "stream",
          "text": [
            "['Charlie Brown', 'Alice Johnson', 'Bob Smith']\n"
          ]
        }
      ],
      "source": [
        "people = [\"Alice Johnson\", \"Bob Smith\", \"Charlie Brown\"]\n",
        "sorted_by_last = sorted(people, key=lambda name: name.split()[-1])\n",
        "print(sorted_by_last)\n",
        "\n"
      ]
    },
    {
      "cell_type": "code",
      "execution_count": null,
      "metadata": {
        "colab": {
          "base_uri": "https://localhost:8080/"
        },
        "id": "MqVD7LkFOien",
        "outputId": "3ff9c74b-daf9-4423-eaa3-314484168695"
      },
      "outputs": [
        {
          "name": "stdout",
          "output_type": "stream",
          "text": [
            "15\n",
            "Error\n"
          ]
        }
      ],
      "source": [
        "operations = {\n",
        "    'add': lambda x, y: x + y,\n",
        "    'sub': lambda x, y: x - y,\n",
        "    'mul': lambda x, y: x * y,\n",
        "    'div': lambda x, y: x / y if y != 0 else 'Error'\n",
        "}\n",
        "\n",
        "print(operations['add'](10, 5))\n",
        "print(operations['div'](10, 0))\n",
        "\n"
      ]
    },
    {
      "cell_type": "code",
      "execution_count": null,
      "metadata": {
        "colab": {
          "base_uri": "https://localhost:8080/"
        },
        "id": "bpoXhck6Ok2P",
        "outputId": "a1e13ca0-41e9-48bc-c4f3-5a519ab72840"
      },
      "outputs": [
        {
          "name": "stdout",
          "output_type": "stream",
          "text": [
            "[6, 12, 18]\n"
          ]
        }
      ],
      "source": [
        "numbers = list(range(1, 21))\n",
        "\n",
        "filtered = list(filter(lambda x: x % 2 == 0 and x % 3 == 0, numbers))\n",
        "print(filtered)\n",
        "\n"
      ]
    },
    {
      "cell_type": "code",
      "execution_count": null,
      "metadata": {
        "colab": {
          "base_uri": "https://localhost:8080/"
        },
        "id": "JMSy2pmtOoSR",
        "outputId": "a14b9dcf-cf38-4cba-8b6e-b8ce612cf44e"
      },
      "outputs": [
        {
          "name": "stdout",
          "output_type": "stream",
          "text": [
            "Even\n",
            "Odd\n"
          ]
        }
      ],
      "source": [
        "check_even_odd = lambda num: \"Even\" if num % 2 == 0 else \"Odd\"\n",
        "print(check_even_odd(4))\n",
        "print(check_even_odd(7))\n",
        "\n",
        "\n"
      ]
    },
    {
      "cell_type": "code",
      "execution_count": null,
      "metadata": {
        "colab": {
          "base_uri": "https://localhost:8080/"
        },
        "id": "MPaI5XyROtbX",
        "outputId": "0e60c8d6-f5af-4a3e-bcb2-ef0bfa9b12bb"
      },
      "outputs": [
        {
          "name": "stdout",
          "output_type": "stream",
          "text": [
            "GEEKSFORGEEKS\n"
          ]
        }
      ],
      "source": [
        "s1 = 'GeeksforGeeks'\n",
        "\n",
        "s2 = lambda func: func.upper()\n",
        "print(s2(s1))\n"
      ]
    },
    {
      "cell_type": "code",
      "execution_count": null,
      "metadata": {
        "colab": {
          "base_uri": "https://localhost:8080/"
        },
        "id": "u8moaIepOw7J",
        "outputId": "c19ad395-8d9f-4b31-f0be-be8ca8c9498f"
      },
      "outputs": [
        {
          "name": "stdout",
          "output_type": "stream",
          "text": [
            "Positive\n",
            "Negative\n",
            "Zero\n"
          ]
        }
      ],
      "source": [
        "\n",
        "n = lambda x: \"Positive\" if x > 0 else \"Negative\" if x < 0 else \"Zero\"\n",
        "\n",
        "print(n(5))\n",
        "print(n(-3))\n",
        "print(n(0))\n",
        "\n"
      ]
    },
    {
      "cell_type": "code",
      "execution_count": null,
      "metadata": {
        "colab": {
          "base_uri": "https://localhost:8080/"
        },
        "id": "tsg0or3ROtaf",
        "outputId": "4d959f28-b874-4a09-b780-89e3a6f40f44"
      },
      "outputs": [
        {
          "name": "stdout",
          "output_type": "stream",
          "text": [
            "10\n",
            "20\n",
            "30\n",
            "40\n"
          ]
        }
      ],
      "source": [
        "li = [lambda arg=x: arg * 10 for x in range(1, 5)]\n",
        "for i in li:\n",
        "    print(i())\n",
        "\n"
      ]
    },
    {
      "cell_type": "code",
      "execution_count": null,
      "metadata": {
        "colab": {
          "base_uri": "https://localhost:8080/"
        },
        "id": "9VEN3n_IO7FW",
        "outputId": "1abf20a7-2b88-4dd6-d32b-a143c2e5040d"
      },
      "outputs": [
        {
          "name": "stdout",
          "output_type": "stream",
          "text": [
            "Even\n",
            "Odd\n"
          ]
        }
      ],
      "source": [
        "\n",
        "check = lambda x: \"Even\" if x % 2 == 0 else \"Odd\"\n",
        "\n",
        "print(check(4))\n",
        "print(check(7))\n",
        "\n"
      ]
    },
    {
      "cell_type": "code",
      "execution_count": null,
      "metadata": {
        "colab": {
          "base_uri": "https://localhost:8080/"
        },
        "id": "Tj1xb5CLO8AR",
        "outputId": "afd97e90-9279-4b42-e8a3-dbe6fc60947c"
      },
      "outputs": [
        {
          "name": "stdout",
          "output_type": "stream",
          "text": [
            "(7, 12)\n"
          ]
        }
      ],
      "source": [
        "\n",
        "calc = lambda x, y: (x + y, x * y)\n",
        "\n",
        "res = calc(3, 4)\n",
        "print(res)\n",
        "\n"
      ]
    },
    {
      "cell_type": "code",
      "execution_count": null,
      "metadata": {
        "colab": {
          "base_uri": "https://localhost:8080/"
        },
        "id": "bIWU7GjEO_Rb",
        "outputId": "bc94e796-af5d-49e8-ba4b-4c32118d5ce4"
      },
      "outputs": [
        {
          "name": "stdout",
          "output_type": "stream",
          "text": [
            "[2, 4, 6]\n"
          ]
        }
      ],
      "source": [
        "\n",
        "n = [1, 2, 3, 4, 5, 6]\n",
        "even = filter(lambda x: x % 2 == 0, n)\n",
        "print(list(even))\n",
        "\n"
      ]
    },
    {
      "cell_type": "code",
      "execution_count": null,
      "metadata": {
        "colab": {
          "base_uri": "https://localhost:8080/"
        },
        "id": "_c_D_et3PCPK",
        "outputId": "b0014ed7-fcad-4881-fd65-a656db13afa0"
      },
      "outputs": [
        {
          "name": "stdout",
          "output_type": "stream",
          "text": [
            "[2, 4, 6, 8]\n"
          ]
        }
      ],
      "source": [
        "\n",
        "a = [1, 2, 3, 4]\n",
        "b = map(lambda x: x * 2, a)\n",
        "print(list(b))\n"
      ]
    },
    {
      "cell_type": "code",
      "execution_count": null,
      "metadata": {
        "colab": {
          "base_uri": "https://localhost:8080/"
        },
        "id": "Qllw4tCxPFDy",
        "outputId": "c6983ce6-3cc7-49d1-d731-c11a64e00974"
      },
      "outputs": [
        {
          "name": "stdout",
          "output_type": "stream",
          "text": [
            "24\n"
          ]
        }
      ],
      "source": [
        "from functools import reduce\n",
        "\n",
        "\n",
        "a = [1, 2, 3, 4]\n",
        "b = reduce(lambda x, y: x * y, a)\n",
        "print(b)\n",
        "\n",
        "\n"
      ]
    },
    {
      "cell_type": "code",
      "execution_count": null,
      "metadata": {
        "colab": {
          "base_uri": "https://localhost:8080/"
        },
        "id": "BdORoKuvcBW3",
        "outputId": "5457c1b0-4abe-427f-9e45-91211efd092b"
      },
      "outputs": [
        {
          "name": "stdout",
          "output_type": "stream",
          "text": [
            "Even\n",
            "Odd\n"
          ]
        }
      ],
      "source": [
        "\n",
        "check = lambda x: \"Even\" if x % 2 == 0 else \"Odd\"\n",
        "\n",
        "print(check(4))\n",
        "print(check(7))\n",
        "\n"
      ]
    },
    {
      "cell_type": "code",
      "execution_count": null,
      "metadata": {
        "colab": {
          "base_uri": "https://localhost:8080/"
        },
        "id": "uSI0fLRLcBW5",
        "outputId": "2d9ec1b4-dcc3-41ee-92ae-f70ef8a48784"
      },
      "outputs": [
        {
          "name": "stdout",
          "output_type": "stream",
          "text": [
            "(7, 12)\n"
          ]
        }
      ],
      "source": [
        "\n",
        "calc = lambda x, y: (x + y, x * y)\n",
        "\n",
        "res = calc(3, 4)\n",
        "print(res)\n",
        "\n"
      ]
    },
    {
      "cell_type": "code",
      "execution_count": null,
      "metadata": {
        "colab": {
          "base_uri": "https://localhost:8080/"
        },
        "id": "yKeGTZYOcBW6",
        "outputId": "0d81efaf-860e-421a-d40b-55c1b7477094"
      },
      "outputs": [
        {
          "name": "stdout",
          "output_type": "stream",
          "text": [
            "[2, 4, 6]\n"
          ]
        }
      ],
      "source": [
        "\n",
        "n = [1, 2, 3, 4, 5, 6]\n",
        "even = filter(lambda x: x % 2 == 0, n)\n",
        "print(list(even))\n",
        "\n"
      ]
    },
    {
      "cell_type": "code",
      "execution_count": null,
      "metadata": {
        "colab": {
          "base_uri": "https://localhost:8080/"
        },
        "id": "NZ0aewELcBW6",
        "outputId": "6a07b7cb-5579-4aa5-b21d-b90f1a9cfc98"
      },
      "outputs": [
        {
          "name": "stdout",
          "output_type": "stream",
          "text": [
            "[2, 4, 6, 8]\n"
          ]
        }
      ],
      "source": [
        "\n",
        "a = [1, 2, 3, 4]\n",
        "b = map(lambda x: x * 2, a)\n",
        "print(list(b))\n"
      ]
    },
    {
      "cell_type": "code",
      "execution_count": null,
      "metadata": {
        "colab": {
          "base_uri": "https://localhost:8080/"
        },
        "id": "WIbEXGD9cBW7",
        "outputId": "bd687f47-332a-47ec-da47-2a93003bec2e"
      },
      "outputs": [
        {
          "name": "stdout",
          "output_type": "stream",
          "text": [
            "24\n"
          ]
        }
      ],
      "source": [
        "from functools import reduce\n",
        "\n",
        "\n",
        "a = [1, 2, 3, 4]\n",
        "b = reduce(lambda x, y: x * y, a)\n",
        "print(b)\n",
        "\n",
        "\n"
      ]
    },
    {
      "cell_type": "code",
      "execution_count": null,
      "metadata": {
        "colab": {
          "base_uri": "https://localhost:8080/"
        },
        "id": "Hpbf5qF_cDEr",
        "outputId": "66064797-b891-48f1-f09b-b48b6bb7f075"
      },
      "outputs": [
        {
          "name": "stdout",
          "output_type": "stream",
          "text": [
            "Even\n",
            "Odd\n"
          ]
        }
      ],
      "source": [
        "\n",
        "check = lambda x: \"Even\" if x % 2 == 0 else \"Odd\"\n",
        "\n",
        "print(check(4))\n",
        "print(check(7))\n",
        "\n"
      ]
    },
    {
      "cell_type": "code",
      "execution_count": null,
      "metadata": {
        "colab": {
          "base_uri": "https://localhost:8080/"
        },
        "id": "tJg_uNR-cDEt",
        "outputId": "64a1e511-9832-4179-b31f-a5032005513d"
      },
      "outputs": [
        {
          "name": "stdout",
          "output_type": "stream",
          "text": [
            "(7, 12)\n"
          ]
        }
      ],
      "source": [
        "\n",
        "calc = lambda x, y: (x + y, x * y)\n",
        "\n",
        "res = calc(3, 4)\n",
        "print(res)\n",
        "\n"
      ]
    },
    {
      "cell_type": "code",
      "execution_count": null,
      "metadata": {
        "colab": {
          "base_uri": "https://localhost:8080/"
        },
        "id": "hn-XqrPycDEu",
        "outputId": "915dadcc-64e9-4dbf-951c-bca009f98d0a"
      },
      "outputs": [
        {
          "name": "stdout",
          "output_type": "stream",
          "text": [
            "[2, 4, 6]\n"
          ]
        }
      ],
      "source": [
        "\n",
        "n = [1, 2, 3, 4, 5, 6]\n",
        "even = filter(lambda x: x % 2 == 0, n)\n",
        "print(list(even))\n",
        "\n"
      ]
    },
    {
      "cell_type": "code",
      "execution_count": null,
      "metadata": {
        "colab": {
          "base_uri": "https://localhost:8080/"
        },
        "id": "QckimkIlcDEv",
        "outputId": "6ad21f82-37c6-4b4b-cbb5-e1197e34ad7a"
      },
      "outputs": [
        {
          "name": "stdout",
          "output_type": "stream",
          "text": [
            "[2, 4, 6, 8]\n"
          ]
        }
      ],
      "source": [
        "\n",
        "a = [1, 2, 3, 4]\n",
        "b = map(lambda x: x * 2, a)\n",
        "print(list(b))\n"
      ]
    },
    {
      "cell_type": "code",
      "execution_count": null,
      "metadata": {
        "colab": {
          "base_uri": "https://localhost:8080/"
        },
        "id": "NgsG4FvmcDEw",
        "outputId": "5ae1d7ee-cf97-4596-a8b9-be6efe156cb1"
      },
      "outputs": [
        {
          "name": "stdout",
          "output_type": "stream",
          "text": [
            "24\n"
          ]
        }
      ],
      "source": [
        "from functools import reduce\n",
        "\n",
        "\n",
        "a = [1, 2, 3, 4]\n",
        "b = reduce(lambda x, y: x * y, a)\n",
        "print(b)\n",
        "\n",
        "\n"
      ]
    },
    {
      "cell_type": "markdown",
      "metadata": {
        "id": "HvRE7XWgf0h8"
      },
      "source": [
        "# *Pandas*"
      ]
    },
    {
      "cell_type": "code",
      "execution_count": null,
      "metadata": {
        "colab": {
          "base_uri": "https://localhost:8080/"
        },
        "id": "TLVjkBa-ZQzT",
        "outputId": "3e1e56b4-9e0c-4e55-8163-8e98e66c88b3"
      },
      "outputs": [
        {
          "name": "stdout",
          "output_type": "stream",
          "text": [
            "Multiply two Series:\n",
            "0     2\n",
            "1    12\n",
            "2    56\n",
            "3    90\n",
            "dtype: int64\n",
            "Divide Series1 by Series2:\n",
            "0    2.000000\n",
            "1    1.333333\n",
            "2    1.142857\n",
            "3    1.111111\n",
            "dtype: float64\n"
          ]
        }
      ],
      "source": [
        "import pandas as pd\n",
        "ds1 = pd.Series([2, 4, 8, 10])\n",
        "ds2 = pd.Series([1, 3, 7, 9])\n",
        "print(\"Multiply two Series:\")\n",
        "ds = ds1 * ds2\n",
        "print(ds)\n",
        "print(\"Divide Series1 by Series2:\")\n",
        "ds = ds1 / ds2\n",
        "print(ds)"
      ]
    },
    {
      "cell_type": "code",
      "execution_count": null,
      "metadata": {
        "colab": {
          "base_uri": "https://localhost:8080/"
        },
        "id": "GoN4r_gfZUaK",
        "outputId": "c1227535-2186-445b-b3b0-0e901008e192"
      },
      "outputs": [
        {
          "name": "stdout",
          "output_type": "stream",
          "text": [
            "Original dictionary:\n",
            "{'a': 100, 'b': 200, 'c': 300}\n",
            "Converted series:\n",
            "a    100\n",
            "b    200\n",
            "c    300\n",
            "dtype: int64\n"
          ]
        }
      ],
      "source": [
        "import pandas as pd\n",
        "d1 = {'a': 100, 'b': 200, 'c':300}\n",
        "print(\"Original dictionary:\")\n",
        "print(d1)\n",
        "new_series = pd.Series(d1)\n",
        "print(\"Converted series:\")\n",
        "print(new_series)"
      ]
    },
    {
      "cell_type": "code",
      "execution_count": null,
      "metadata": {
        "colab": {
          "base_uri": "https://localhost:8080/"
        },
        "id": "EwXVUACvZbH6",
        "outputId": "1c9e5c9c-1345-4422-e08d-9f298412370f"
      },
      "outputs": [
        {
          "name": "stdout",
          "output_type": "stream",
          "text": [
            "Original Data Series:\n",
            "0    400.00\n",
            "1    300.12\n",
            "2    100.00\n",
            "3    200.00\n",
            "dtype: float64\n",
            "2    100.00\n",
            "3    200.00\n",
            "1    300.12\n",
            "0    400.00\n",
            "dtype: float64\n"
          ]
        }
      ],
      "source": [
        "import pandas as pd\n",
        "s = pd.Series([400, 300.12,100, 200])\n",
        "print(\"Original Data Series:\")\n",
        "print(s)\n",
        "new_s = pd.Series(s).sort_values()\n",
        "print(new_s)"
      ]
    },
    {
      "cell_type": "code",
      "execution_count": null,
      "metadata": {
        "colab": {
          "base_uri": "https://localhost:8080/"
        },
        "id": "dd0suou8Ze_b",
        "outputId": "fbc854fd-0822-4a90-8205-9f6ff1eec9ab"
      },
      "outputs": [
        {
          "name": "stdout",
          "output_type": "stream",
          "text": [
            "Original Data Series:\n",
            "A    1\n",
            "B    2\n",
            "C    3\n",
            "dtype: int64\n",
            "Data Series after changing the order of index:\n",
            "B    2\n",
            "A    1\n",
            "C    3\n",
            "dtype: int64\n"
          ]
        }
      ],
      "source": [
        "import pandas as pd\n",
        "s = pd.Series(data = [1,2,3], index = ['A', 'B', 'C'])\n",
        "print(\"Original Data Series:\")\n",
        "print(s)\n",
        "s = s.reindex(index = ['B','A','C'])\n",
        "print(\"Data Series after changing the order of index:\")\n",
        "print(s)"
      ]
    },
    {
      "cell_type": "code",
      "execution_count": null,
      "metadata": {
        "colab": {
          "base_uri": "https://localhost:8080/"
        },
        "id": "Z-jPpjgQZi60",
        "outputId": "333313dc-1065-4f05-a936-cfbb755647b7"
      },
      "outputs": [
        {
          "name": "stdout",
          "output_type": "stream",
          "text": [
            "Original Series:\n",
            "sr1:\n",
            "0    1\n",
            "1    2\n",
            "2    3\n",
            "dtype: int64\n",
            "sr2:\n",
            "0    2\n",
            "1    3\n",
            "2    6\n",
            "dtype: int64\n",
            "\n",
            "Items of a given series not present in another given series:\n",
            "0    1\n",
            "3    6\n",
            "dtype: int64\n"
          ]
        }
      ],
      "source": [
        "import pandas as pd\n",
        "import numpy as np\n",
        "sr1 = pd.Series([1, 2, 3])\n",
        "sr2 = pd.Series([2, 3, 6])\n",
        "print(\"Original Series:\")\n",
        "print(\"sr1:\")\n",
        "print(sr1)\n",
        "print(\"sr2:\")\n",
        "print(sr2)\n",
        "print(\"\\nItems of a given series not present in another given series:\")\n",
        "sr11 = pd.Series(np.union1d(sr1, sr2))\n",
        "sr22 = pd.Series(np.intersect1d(sr1, sr2))\n",
        "result = sr11[~sr11.isin(sr22)]\n",
        "print(result)"
      ]
    },
    {
      "cell_type": "code",
      "execution_count": null,
      "metadata": {
        "colab": {
          "base_uri": "https://localhost:8080/"
        },
        "id": "H0-I3gZqZmT4",
        "outputId": "dc329e76-f3fb-4254-e1dd-329b650b6626"
      },
      "outputs": [
        {
          "name": "stdout",
          "output_type": "stream",
          "text": [
            "         name  score\n",
            "NAME   Manish   12.5\n",
            "SCORE  Dhiraj    9.0\n"
          ]
        }
      ],
      "source": [
        "import pandas as pd\n",
        "import numpy as np\n",
        "exam_data  = {'name': ['Manish', 'Dhiraj'],\n",
        "'score': [12.5, 9]}\n",
        "labels = ['NAME', 'SCORE']\n",
        "df = pd.DataFrame(exam_data , index=labels)\n",
        "print(df)"
      ]
    },
    {
      "cell_type": "code",
      "execution_count": null,
      "metadata": {
        "colab": {
          "base_uri": "https://localhost:8080/"
        },
        "id": "fkUzH-ZYZp94",
        "outputId": "3bdf47ee-5421-4ef8-ba62-5949e192b501"
      },
      "outputs": [
        {
          "name": "stdout",
          "output_type": "stream",
          "text": [
            "First three rows of the data frame:\n",
            "     name  score\n",
            "0  Manish   12.5\n",
            "1  Dhiraj   91.0\n",
            "2     Man    2.5\n"
          ]
        }
      ],
      "source": [
        "import pandas as pd\n",
        "import numpy as np\n",
        "exam_data  = {'name': ['Manish', 'Dhiraj','Man', 'Dhir'],\n",
        "        'score': [12.5, 91,2.5, 9]}\n",
        "df = pd.DataFrame(exam_data )\n",
        "print(\"First three rows of the data frame:\")\n",
        "print(df.iloc[:3])"
      ]
    },
    {
      "cell_type": "code",
      "execution_count": null,
      "metadata": {
        "colab": {
          "base_uri": "https://localhost:8080/"
        },
        "id": "Rpj0HT2jZubk",
        "outputId": "70a851f9-9bdd-4c80-a408-4e2d2c7c1b7c"
      },
      "outputs": [
        {
          "name": "stdout",
          "output_type": "stream",
          "text": [
            "Number of Rows: 4\n",
            "Number of Columns: 2\n"
          ]
        }
      ],
      "source": [
        "import pandas as pd\n",
        "import numpy as np\n",
        "exam_data  = {'name': ['Manish', 'Dhiraj','Man', 'Dhir'],\n",
        "        'score': [12.5, 91,2.5, 9]}\n",
        "df = pd.DataFrame(exam_data )\n",
        "total_rows=len(df.axes[0])\n",
        "total_cols=len(df.axes[1])\n",
        "print(\"Number of Rows: \"+str(total_rows))\n",
        "print(\"Number of Columns: \"+str(total_cols))"
      ]
    },
    {
      "cell_type": "code",
      "execution_count": null,
      "metadata": {
        "colab": {
          "base_uri": "https://localhost:8080/"
        },
        "id": "Yv8A6JP9ZzKx",
        "outputId": "1be5a70e-5051-4de2-ae27-47df3d6d7ef6"
      },
      "outputs": [
        {
          "name": "stdout",
          "output_type": "stream",
          "text": [
            "Rows where score between 15 and 20 (inclusive):\n",
            "   name  score\n",
            "3  Dhir   19.0\n"
          ]
        }
      ],
      "source": [
        "import pandas as pd\n",
        "import numpy as np\n",
        "exam_data  = {'name': ['Manish', 'Dhiraj','Man', 'Dhir'],\n",
        "        'score': [12.5, 91,20.5, 19]}\n",
        "df = pd.DataFrame(exam_data )\n",
        "print(\"Rows where score between 15 and 20 (inclusive):\")\n",
        "print(df[df['score'].between(15, 20)])"
      ]
    },
    {
      "cell_type": "code",
      "execution_count": null,
      "metadata": {
        "colab": {
          "base_uri": "https://localhost:8080/"
        },
        "id": "uWefswgiZ2ss",
        "outputId": "48d28e30-af84-47fa-f514-2f0ed3a9f5e9"
      },
      "outputs": [
        {
          "name": "stdout",
          "output_type": "stream",
          "text": [
            "Sort the data frame first by ‘name’ in descending order, then by ‘Score’ in ascending order:\n",
            "     name  score\n",
            "3    Dhir   19.0\n",
            "1  Dhiraj   91.0\n",
            "2     Man   20.5\n",
            "0  Manish   12.5\n"
          ]
        }
      ],
      "source": [
        "import pandas as pd\n",
        "import numpy as np\n",
        "exam_data  = {'name': ['Manish', 'Dhiraj','Man', 'Dhir'],\n",
        "        'score': [12.5, 91,20.5, 19]}\n",
        "df = pd.DataFrame(exam_data )\n",
        "result_sort=df.sort_values(by=['name', 'score'], ascending=[True,\n",
        "True])\n",
        "print(\"Sort the data frame first by ‘name’ in descending order, then by ‘Score’ in ascending order:\")\n",
        "print(result_sort)\n"
      ]
    },
    {
      "cell_type": "code",
      "execution_count": null,
      "metadata": {
        "colab": {
          "base_uri": "https://localhost:8080/"
        },
        "id": "6t3NR8knaJRZ",
        "outputId": "2bcf4433-00ea-4925-c719-40c6408019cd"
      },
      "outputs": [
        {
          "name": "stdout",
          "output_type": "stream",
          "text": [
            "     name  score\n",
            "0   Anish   12.5\n",
            "1  Dhiraj   91.0\n",
            "2     Man   20.5\n",
            "3    Dhir   19.0\n"
          ]
        }
      ],
      "source": [
        "import pandas as pd\n",
        "import numpy as np\n",
        "exam_data  = {'name': ['Manish', 'Dhiraj','Man', 'Dhir'],\n",
        "        'score': [12.5, 91,20.5, 19]}\n",
        "df = pd.DataFrame(exam_data )\n",
        "df['name'] = df['name'].replace('Manish', 'Anish')\n",
        "print(df)"
      ]
    },
    {
      "cell_type": "code",
      "execution_count": null,
      "metadata": {
        "colab": {
          "base_uri": "https://localhost:8080/"
        },
        "id": "jsa3JDVuaMk5",
        "outputId": "1d997917-0a1a-422c-a4e7-7460f4652d3b"
      },
      "outputs": [
        {
          "name": "stdout",
          "output_type": "stream",
          "text": [
            "\n",
            "New DataFrame after inserting the 'medium' column\n",
            "     name  score   medium\n",
            "0  Manish   12.5  english\n",
            "1  Dhiraj   91.0    hindi\n",
            "2     Man   20.5    hindi\n",
            "3    Dhir   19.0  english\n"
          ]
        }
      ],
      "source": [
        "import pandas as pd\n",
        "import numpy as np\n",
        "exam_data  = {'name': ['Manish', 'Dhiraj','Man', 'Dhir'],\n",
        "        'score': [12.5, 91,20.5, 19]}\n",
        "df = pd.DataFrame(exam_data )\n",
        "medium = ['english','hindi','hindi','english']\n",
        "df['medium'] = medium\n",
        "print(\"\\nNew DataFrame after inserting the 'medium' column\")\n",
        "print(df)"
      ]
    },
    {
      "cell_type": "code",
      "execution_count": null,
      "metadata": {
        "colab": {
          "base_uri": "https://localhost:8080/"
        },
        "id": "b8rWtQYKaQVF",
        "outputId": "57856924-162b-4b5d-8c55-5131b426d80f"
      },
      "outputs": [
        {
          "name": "stdout",
          "output_type": "stream",
          "text": [
            "New DataFrame after renaming columns:\n",
            "     NAME  SCORE\n",
            "0  Manish   12.5\n",
            "1  Dhiraj   91.0\n",
            "2     Man   20.5\n",
            "3    Dhir   19.0\n"
          ]
        }
      ],
      "source": [
        "import numpy as np\n",
        "exam_data  = {'name': ['Manish', 'Dhiraj','Man', 'Dhir'],\n",
        "'score': [12.5, 91,20.5, 19]}\n",
        "df = pd.DataFrame(exam_data )\n",
        "df = df.rename(columns={'name': 'NAME', 'score': 'SCORE'})\n",
        "print(\"New DataFrame after renaming columns:\")\n",
        "print(df)"
      ]
    },
    {
      "cell_type": "code",
      "execution_count": null,
      "metadata": {
        "colab": {
          "base_uri": "https://localhost:8080/"
        },
        "id": "PoanWfHFaTXL",
        "outputId": "0f83c82b-9427-452f-e951-919a55efcb51"
      },
      "outputs": [
        {
          "name": "stdout",
          "output_type": "stream",
          "text": [
            "New DataFrame\n",
            "     name  score\n",
            "1  Dhiraj   91.0\n",
            "2     Man   20.5\n"
          ]
        }
      ],
      "source": [
        "import pandas as pd\n",
        "import numpy as np\n",
        "exam_data  = {'name': ['Manish', 'Dhiraj','Man', 'Dhir'],\n",
        "'score': [12.5, 91,20.5, 19]}\n",
        "df = pd.DataFrame(exam_data )\n",
        "df = df[df.score >= 20]\n",
        "print(\"New DataFrame\")\n",
        "print(df)"
      ]
    },
    {
      "cell_type": "code",
      "execution_count": null,
      "metadata": {
        "colab": {
          "base_uri": "https://localhost:8080/"
        },
        "id": "2HFs0aXUaYyy",
        "outputId": "171ebf54-f016-46dd-a73e-9dd962b346bf"
      },
      "outputs": [
        {
          "name": "stdout",
          "output_type": "stream",
          "text": [
            "Data Series:\n",
            "0    100\n",
            "1    200\n",
            "2    400\n",
            "dtype: object\n",
            "0    10\n",
            "1    20\n",
            "2    40\n",
            "dtype: object\n",
            "New DataFrame combining two series:\n",
            "     0   1\n",
            "0  100  10\n",
            "1  200  20\n",
            "2  400  40\n"
          ]
        }
      ],
      "source": [
        "import pandas as pd\n",
        "import numpy as np\n",
        "s1 = pd.Series(['100', '200', '400'])\n",
        "s2 = pd.Series(['10', '20', '40'])\n",
        "print(\"Data Series:\")\n",
        "print(s1)\n",
        "print(s2)\n",
        "df = pd.concat([s1, s2], axis=1)\n",
        "print(\"New DataFrame combining two series:\")\n",
        "print(df)"
      ]
    },
    {
      "cell_type": "code",
      "execution_count": null,
      "metadata": {
        "colab": {
          "base_uri": "https://localhost:8080/"
        },
        "id": "P-xM8k7-aZ8d",
        "outputId": "21431c2e-5b28-4616-f2ad-2d6ee968fed0"
      },
      "outputs": [
        {
          "name": "stdout",
          "output_type": "stream",
          "text": [
            "Value of Row4\n",
            "0    400\n",
            "1     40\n",
            "Name: 2, dtype: object\n"
          ]
        }
      ],
      "source": [
        "import pandas as pd\n",
        "import numpy as np\n",
        "s1 = pd.Series(['100', '200', '400'])\n",
        "s2 = pd.Series(['10', '20', '40'])\n",
        "df = pd.concat([s1, s2], axis=1)\n",
        "print(\"Value of Row4\")\n",
        "print(df.iloc[2])"
      ]
    },
    {
      "cell_type": "code",
      "execution_count": null,
      "metadata": {
        "colab": {
          "base_uri": "https://localhost:8080/"
        },
        "id": "Nut6rsGeactC",
        "outputId": "7ac0191d-9d9d-4374-8d78-5b6a300a7b76"
      },
      "outputs": [
        {
          "name": "stdout",
          "output_type": "stream",
          "text": [
            "\n",
            "New DataFrame\n",
            "   1    0   1\n",
            "0  1  100  10\n",
            "1  2  200  20\n",
            "2  3  400  40\n"
          ]
        }
      ],
      "source": [
        "import pandas as pd\n",
        "import numpy as np\n",
        "s1 = pd.Series(['100', '200', '400'])\n",
        "s2 = pd.Series(['10', '20', '40'])\n",
        "df = pd.concat([s1, s2], axis=1)\n",
        "new_col = [1, 2, 3]\n",
        "\n",
        "idx = 0\n",
        "df.insert(loc=idx, column='1', value=new_col)\n",
        "print(\"\\nNew DataFrame\")\n",
        "print(df)"
      ]
    },
    {
      "cell_type": "code",
      "execution_count": null,
      "metadata": {
        "id": "vygevFUVeibl"
      },
      "outputs": [],
      "source": [
        "\n"
      ]
    },
    {
      "cell_type": "code",
      "execution_count": null,
      "metadata": {
        "colab": {
          "base_uri": "https://localhost:8080/"
        },
        "id": "EP4VIoEsbcc6",
        "outputId": "d4c6b4dd-2075-4395-96e2-a19913a78ee8"
      },
      "outputs": [
        {
          "name": "stdout",
          "output_type": "stream",
          "text": [
            "0    10\n",
            "1    20\n",
            "2    30\n",
            "3    40\n",
            "dtype: int64\n",
            "a    1.5\n",
            "b    2.5\n",
            "c    3.5\n",
            "dtype: float64\n",
            "math       85\n",
            "science    90\n",
            "english    78\n",
            "dtype: int64\n"
          ]
        }
      ],
      "source": [
        "import pandas as pd\n",
        "\n",
        "\n",
        "s1 = pd.Series([10, 20, 30, 40])\n",
        "s2 = pd.Series([1.5, 2.5, 3.5], index=['a', 'b', 'c'])\n",
        "s3 = pd.Series({'math': 85, 'science': 90, 'english': 78})\n",
        "\n",
        "print(s1)\n",
        "print(s2)\n",
        "print(s3)\n",
        "\n",
        "\n",
        "\n"
      ]
    },
    {
      "cell_type": "code",
      "execution_count": null,
      "metadata": {
        "colab": {
          "base_uri": "https://localhost:8080/"
        },
        "id": "QCemTsWKbccD",
        "outputId": "5d5bf8d9-c2a6-4a7f-d893-b8df08a16d1c"
      },
      "outputs": [
        {
          "name": "stdout",
          "output_type": "stream",
          "text": [
            "s1:\n",
            " 0    10\n",
            "1    20\n",
            "2    30\n",
            "3    40\n",
            "dtype: int64\n",
            "s2:\n",
            " a    1.5\n",
            "b    2.5\n",
            "c    3.5\n",
            "dtype: float64\n",
            "s3:\n",
            " math       85\n",
            "science    90\n",
            "english    78\n",
            "dtype: int64\n"
          ]
        }
      ],
      "source": [
        "import pandas as pd\n",
        "\n",
        "\n",
        "s1 = pd.Series([10, 20, 30, 40])\n",
        "s2 = pd.Series([1.5, 2.5, 3.5], index=['a', 'b', 'c'])\n",
        "s3 = pd.Series({'math': 85, 'science': 90, 'english': 78})\n",
        "\n",
        "print(\"s1:\\n\", s1)\n",
        "print(\"s2:\\n\", s2)\n",
        "print(\"s3:\\n\", s3)\n",
        "\n"
      ]
    },
    {
      "cell_type": "code",
      "execution_count": null,
      "metadata": {
        "colab": {
          "background_save": true,
          "base_uri": "https://localhost:8080/"
        },
        "id": "Mps1KZuwV8U-",
        "outputId": "3187ab5c-470e-4fe9-92fb-3a3b78bd4b21"
      },
      "outputs": [
        {
          "name": "stdout",
          "output_type": "stream",
          "text": [
            "Data Series:\n",
            "0    100\n",
            "1    200\n",
            "2    400\n",
            "dtype: int64\n",
            "0    10\n",
            "1    20\n",
            "2    40\n",
            "dtype: int64\n"
          ]
        }
      ],
      "source": [
        "import pandas as pd\n",
        "import numpy as np\n",
        "\n",
        "s1 = pd.Series([100, 200, 400])\n",
        "s2 = pd.Series([10, 20, 40])\n",
        "\n",
        "\n",
        "print(\"Data Series:\")\n",
        "print(s1)\n",
        "print(s2)\n"
      ]
    },
    {
      "cell_type": "code",
      "execution_count": null,
      "metadata": {
        "colab": {
          "background_save": true,
          "base_uri": "https://localhost:8080/"
        },
        "id": "E5UzWXPEX9kl",
        "outputId": "6409ae41-0f41-4046-aa60-4fb520ca3094"
      },
      "outputs": [
        {
          "name": "stdout",
          "output_type": "stream",
          "text": [
            "a     5\n",
            "b    10\n",
            "c    15\n",
            "d    20\n",
            "e    25\n",
            "dtype: int64\n"
          ]
        }
      ],
      "source": [
        "import pandas as pd\n",
        "values=[5,10,15,20,25]\n",
        "custom_index=['a','b','c','d','e']\n",
        "s=pd.Series(values,index=custom_index)\n",
        "print(s)"
      ]
    },
    {
      "cell_type": "code",
      "execution_count": null,
      "metadata": {
        "colab": {
          "background_save": true,
          "base_uri": "https://localhost:8080/"
        },
        "id": "XxybwFM3Y4j7",
        "outputId": "ca6e04be-1de8-4dae-878d-8751608c1ef2"
      },
      "outputs": [
        {
          "name": "stdout",
          "output_type": "stream",
          "text": [
            "apple     50\n",
            "banana    30\n",
            "cherry    20\n",
            "dtype: int64\n"
          ]
        }
      ],
      "source": [
        "import pandas as pd\n",
        "fruits_data = {'apple': 50, 'banana': 30, 'cherry': 20}\n",
        "fruits_Series = pd.Series(fruits_data)\n",
        "print(fruits_Series)\n"
      ]
    },
    {
      "cell_type": "code",
      "execution_count": null,
      "metadata": {
        "colab": {
          "background_save": true,
          "base_uri": "https://localhost:8080/"
        },
        "id": "EkOnEuv1ZoMS",
        "outputId": "7d9f5266-614e-4099-94c9-c86c0079fbd7"
      },
      "outputs": [
        {
          "name": "stdout",
          "output_type": "stream",
          "text": [
            "Alice        NaN\n",
            "Alive        NaN\n",
            "Bob        160.0\n",
            "Charlie    180.0\n",
            "dtype: float64\n"
          ]
        }
      ],
      "source": [
        "import pandas as pd\n",
        "subject_A = pd.Series({'Alive': 85, 'Bob': 78, 'Charlie': 92})\n",
        "subject_B = pd.Series({'Alice': 90, 'Bob': 82, 'Charlie': 88})\n",
        "total_marks = subject_A + subject_B\n",
        "print(total_marks)\n"
      ]
    },
    {
      "cell_type": "code",
      "execution_count": null,
      "metadata": {
        "colab": {
          "background_save": true,
          "base_uri": "https://localhost:8080/"
        },
        "id": "-tzuMx6teChd",
        "outputId": "9bdf2491-a7da-41b3-8802-d713a268f79f"
      },
      "outputs": [
        {
          "name": "stdout",
          "output_type": "stream",
          "text": [
            "0     1\n",
            "1     4\n",
            "2     7\n",
            "3    10\n",
            "dtype: int32\n"
          ]
        }
      ],
      "source": [
        "import pandas as pd\n",
        "dates = pd.Series([\n",
        "    '2023-01-15',\n",
        "    '2023-04-22',\n",
        "    '2023-07-08',\n",
        "    '2023-10-31',\n",
        "])\n",
        "dates = pd.to_datetime(dates)\n",
        "months = dates.dt.month\n",
        "print(months)\n"
      ]
    },
    {
      "cell_type": "code",
      "execution_count": null,
      "metadata": {
        "colab": {
          "background_save": true,
          "base_uri": "https://localhost:8080/"
        },
        "id": "C0YwEpHMuWxY",
        "outputId": "f62bae14-4ed4-4451-875c-d9879c80008b"
      },
      "outputs": [
        {
          "name": "stdout",
          "output_type": "stream",
          "text": [
            "0     5\n",
            "1    10\n",
            "2    15\n",
            "3    20\n",
            "4    25\n",
            "dtype: int64\n"
          ]
        }
      ],
      "source": [
        "\n",
        "#1.Create a Pandas Series of 5 elements: [5, 10, 15, 20, 25]\n",
        "import pandas as pd\n",
        "s = pd.Series([5, 10, 15, 20, 25])\n",
        "print(s)\n"
      ]
    },
    {
      "cell_type": "code",
      "execution_count": null,
      "metadata": {
        "colab": {
          "background_save": true,
          "base_uri": "https://localhost:8080/"
        },
        "id": "0NeJ5OE7eiKR",
        "outputId": "14dbb54a-038c-4624-a3ef-2a7a066a2fa2"
      },
      "outputs": [
        {
          "name": "stdout",
          "output_type": "stream",
          "text": [
            "a     5\n",
            "b    10\n",
            "c    15\n",
            "d    20\n",
            "e    25\n",
            "dtype: int64\n"
          ]
        }
      ],
      "source": [
        "#2\n",
        "import pandas as pd\n",
        "s=pd.Series([5, 10, 15, 20, 25], index=['a', 'b', 'c', 'd', 'e'])\n",
        "print(s)\n"
      ]
    },
    {
      "cell_type": "code",
      "execution_count": null,
      "metadata": {
        "colab": {
          "background_save": true,
          "base_uri": "https://localhost:8080/"
        },
        "id": "B6ICKy3-fsEw",
        "outputId": "8e856615-7cc8-48c8-b6cf-396749745c66"
      },
      "outputs": [
        {
          "name": "stdout",
          "output_type": "stream",
          "text": [
            "15\n"
          ]
        }
      ],
      "source": [
        "#3\n",
        "import pandas as pd\n",
        "s=pd.Series([5, 10, 15, 20, 25], index=['a', 'b', 'c', 'd', 'e'])\n",
        "print(s['c'])\n"
      ]
    },
    {
      "cell_type": "code",
      "execution_count": null,
      "metadata": {
        "colab": {
          "background_save": true,
          "base_uri": "https://localhost:8080/"
        },
        "id": "UUh-wj8Gf7aY",
        "outputId": "2aa977e8-f180-47f9-a4fb-f48c3eac4982"
      },
      "outputs": [
        {
          "name": "stdout",
          "output_type": "stream",
          "text": [
            "Maximum value: 25\n"
          ]
        }
      ],
      "source": [
        "import pandas as pd\n",
        "s=pd.Series([5, 10, 15, 20, 25], index=['a', 'b', 'c', 'd', 'e'])\n",
        "max_value=s.max()\n",
        "print(\"Maximum value:\",max_value)\n"
      ]
    },
    {
      "cell_type": "code",
      "execution_count": null,
      "metadata": {
        "colab": {
          "background_save": true,
          "base_uri": "https://localhost:8080/"
        },
        "id": "VE3JzcLIvDLa",
        "outputId": "ed0aa276-b035-4e37-8f9c-99bd4ad71e8a"
      },
      "outputs": [
        {
          "name": "stdout",
          "output_type": "stream",
          "text": [
            "a    10\n",
            "b    15\n",
            "c    20\n",
            "d    25\n",
            "e    30\n",
            "dtype: int64\n"
          ]
        }
      ],
      "source": [
        "#5\n",
        "import pandas as pd\n",
        "s = pd.Series([5, 10, 15, 20, 25], index=['a', 'b', 'c', 'd', 'e'])\n",
        "s_added = s + 5\n",
        "print(s_added)\n"
      ]
    },
    {
      "cell_type": "code",
      "execution_count": null,
      "metadata": {
        "colab": {
          "background_save": true,
          "base_uri": "https://localhost:8080/"
        },
        "id": "XeMf6zvqvJCA",
        "outputId": "c592041c-d7d1-4cc3-ae78-6286160c9ab7"
      },
      "outputs": [
        {
          "name": "stdout",
          "output_type": "stream",
          "text": [
            "apple     50\n",
            "banana    30\n",
            "cherry    20\n",
            "dtype: int64\n"
          ]
        }
      ],
      "source": [
        "#6\n",
        "import pandas as pd\n",
        "data = {'apple': 50, 'banana': 30, 'cherry': 20}\n",
        "fruit_series = pd.Series(data)\n",
        "print(fruit_series)\n"
      ]
    },
    {
      "cell_type": "code",
      "execution_count": null,
      "metadata": {
        "colab": {
          "background_save": true,
          "base_uri": "https://localhost:8080/"
        },
        "id": "x1G47J2ovOvi",
        "outputId": "f0be0777-2896-4196-8799-907fad94db83"
      },
      "outputs": [
        {
          "name": "stdout",
          "output_type": "stream",
          "text": [
            "apple     50\n",
            "banana    30\n",
            "dtype: int64\n"
          ]
        }
      ],
      "source": [
        "#7.\n",
        "import pandas as pd\n",
        "data = {'apple': 50, 'banana': 30, 'cherry': 20}\n",
        "fruit_series = pd.Series(data)\n",
        "filtered_series = fruit_series[fruit_series > 25]\n",
        "print(filtered_series)\n"
      ]
    },
    {
      "cell_type": "code",
      "execution_count": null,
      "metadata": {
        "colab": {
          "background_save": true,
          "base_uri": "https://localhost:8080/"
        },
        "id": "muudhOsAvVSZ",
        "outputId": "3dce4e9f-23c9-46ba-99d9-40f0bde1f3b6"
      },
      "outputs": [
        {
          "name": "stdout",
          "output_type": "stream",
          "text": [
            "apple     60.0\n",
            "banana    36.0\n",
            "cherry    24.0\n",
            "dtype: float64\n"
          ]
        }
      ],
      "source": [
        "#8.\n",
        "import pandas as pd\n",
        "data = {'apple': 50, 'banana': 30, 'cherry': 20}\n",
        "fruit_series = pd.Series(data)\n",
        "increased_prices = fruit_series * 1.2\n",
        "print(increased_prices)\n"
      ]
    },
    {
      "cell_type": "code",
      "execution_count": null,
      "metadata": {
        "colab": {
          "background_save": true,
          "base_uri": "https://localhost:8080/"
        },
        "id": "rQy4em1DvZUB",
        "outputId": "d234369a-5388-4807-fb16-3197570e8c0e"
      },
      "outputs": [
        {
          "name": "stdout",
          "output_type": "stream",
          "text": [
            "apple      NaN\n",
            "banana    40.0\n",
            "cherry    25.0\n",
            "date       NaN\n",
            "dtype: float64\n"
          ]
        }
      ],
      "source": [
        "#9.\n",
        "import pandas as pd\n",
        "fruit_series = pd.Series({'apple': 50, 'banana': 30, 'cherry': 20})\n",
        "new_prices = pd.Series({'banana': 10, 'cherry': 5, 'date': 15})\n",
        "combined = fruit_series + new_prices\n",
        "print(combined)\n"
      ]
    },
    {
      "cell_type": "code",
      "execution_count": null,
      "metadata": {
        "colab": {
          "background_save": true,
          "base_uri": "https://localhost:8080/"
        },
        "id": "kOSYBwS6ve5K",
        "outputId": "d69904c8-9134-4ca6-9e10-9f47ae7e8ec7"
      },
      "outputs": [
        {
          "name": "stdout",
          "output_type": "stream",
          "text": [
            "Mean: 30.0\n",
            "Standard Deviation: 15.811388300841896\n"
          ]
        }
      ],
      "source": [
        "#10\n",
        "import pandas as pd\n",
        "s = pd.Series([10, 20, 30, 40, 50])\n",
        "mean_val = s.mean()\n",
        "std_val = s.std()\n",
        "print(\"Mean:\", mean_val)\n",
        "print(\"Standard Deviation:\", std_val)\n"
      ]
    },
    {
      "cell_type": "code",
      "execution_count": null,
      "metadata": {
        "colab": {
          "background_save": true,
          "base_uri": "https://localhost:8080/"
        },
        "id": "bi8rR-HxvnMy",
        "outputId": "54b0ab3f-0cda-42ba-9a67-7b1c3040fc65"
      },
      "outputs": [
        {
          "name": "stdout",
          "output_type": "stream",
          "text": [
            "Alice      173\n",
            "Bob        152\n",
            "Charlie    182\n",
            "dtype: int64\n"
          ]
        }
      ],
      "source": [
        "#11.\n",
        "import pandas as pd\n",
        "subject1 = pd.Series({'Alice': 85, 'Bob': 78, 'Charlie': 92})\n",
        "subject2 = pd.Series({'Alice': 88, 'Bob': 74, 'Charlie': 90})\n",
        "total_marks = subject1 + subject2\n",
        "print(total_marks)\n"
      ]
    },
    {
      "cell_type": "code",
      "execution_count": null,
      "metadata": {
        "colab": {
          "background_save": true,
          "base_uri": "https://localhost:8080/"
        },
        "id": "L9X0tQG2vs4S",
        "outputId": "38e5346b-5db8-43a1-f80a-089d89b041b0"
      },
      "outputs": [
        {
          "name": "stdout",
          "output_type": "stream",
          "text": [
            "0     1\n",
            "1     3\n",
            "2     7\n",
            "3    12\n",
            "dtype: int32\n"
          ]
        }
      ],
      "source": [
        "#12\n",
        "import pandas as pd\n",
        "timestamps = pd.Series([\n",
        "    '2025-01-14', '2025-03-22', '2025-07-14', '2025-12-01'\n",
        "])\n",
        "timestamps = pd.to_datetime(timestamps)\n",
        "months = timestamps.dt.month\n",
        "print(months)\n"
      ]
    },
    {
      "cell_type": "code",
      "execution_count": null,
      "metadata": {
        "colab": {
          "base_uri": "https://localhost:8080/"
        },
        "id": "WrDxJDV7vyip",
        "outputId": "26bb9371-b090-4845-ed05-5c58e6970b87"
      },
      "outputs": [
        {
          "output_type": "stream",
          "name": "stdout",
          "text": [
            "Index of maximum value: D\n"
          ]
        }
      ],
      "source": [
        "\n",
        "#13.\n",
        "import pandas as pd\n",
        "s = pd.Series({'A': 10, 'B': 25, 'C': 18, 'D': 30})\n",
        "max_index = s.idxmax()\n",
        "print(\"Index of maximum value:\", max_index)\n"
      ]
    },
    {
      "cell_type": "code",
      "source": [
        "# 1. Create a DataFrame with the given data and updated cities\n",
        "import pandas as pd\n",
        "\n",
        "data = {\n",
        "    'Name': ['Adi', 'Dito', 'Chinmmya', 'Beta'],\n",
        "    'Age': [25, 30, 35, 28],\n",
        "    'City': ['Dubai', 'Thailand', 'Kashmir', 'Rajasthan']\n",
        "}\n",
        "df = pd.DataFrame(data)\n",
        "print(\"Initial DataFrame:\")\n",
        "print(df)"
      ],
      "metadata": {
        "colab": {
          "base_uri": "https://localhost:8080/"
        },
        "id": "n-iM7bssarQY",
        "outputId": "80d35171-99d5-4d3e-ee4f-7952348c4f73"
      },
      "execution_count": null,
      "outputs": [
        {
          "output_type": "stream",
          "name": "stdout",
          "text": [
            "Initial DataFrame:\n",
            "       Name  Age       City\n",
            "0       Adi   25      Dubai\n",
            "1      Dito   30   Thailand\n",
            "2  Chinmmya   35    Kashmir\n",
            "3      Beta   28  Rajasthan\n"
          ]
        }
      ]
    },
    {
      "cell_type": "code",
      "source": [
        "# 2. Sort the DataFrame by Age in descending order\n",
        "import pandas as pd\n",
        "\n",
        "data = {\n",
        "    'Name': ['Adi', 'Dito', 'Chinmmya', 'Beta'],\n",
        "    'Age': [25, 30, 35, 28],\n",
        "    'City': ['Dubai', 'Thailand', 'Kashmir', 'Rajasthan']\n",
        "}\n",
        "\n",
        "df_sorted = df.sort_values(by='Age', ascending=False)\n",
        "print(\"\\nSorted by Age (Descending):\")\n",
        "print(df_sorted)"
      ],
      "metadata": {
        "colab": {
          "base_uri": "https://localhost:8080/"
        },
        "id": "-HltnImdavno",
        "outputId": "ac8ddd65-c7c1-403a-fed3-fbcdab7785da"
      },
      "execution_count": null,
      "outputs": [
        {
          "output_type": "stream",
          "name": "stdout",
          "text": [
            "\n",
            "Sorted by Age (Descending):\n",
            "       Name  Age       City\n",
            "2  Chinmmya   35    Kashmir\n",
            "1      Dito   30   Thailand\n",
            "3      Beta   28  Rajasthan\n",
            "0       Adi   25      Dubai\n"
          ]
        }
      ]
    },
    {
      "cell_type": "code",
      "source": [
        "# 3. Add a new column called Salary\n",
        "import pandas as pd\n",
        "\n",
        "data = {\n",
        "    'Name': ['Adi', 'Dito', 'Chinmmya', 'Beta'],\n",
        "    'Age': [25, 30, 35, 28],\n",
        "    'City': ['Dubai', 'Thailand', 'Kashmir', 'Rajasthan']\n",
        "}\n",
        "\n",
        "df['Salary'] = [50000, 60000, 70000, 55000]\n",
        "print(\"\\nDataFrame with Salary:\")\n",
        "print(df)"
      ],
      "metadata": {
        "colab": {
          "base_uri": "https://localhost:8080/"
        },
        "id": "CUJt2xdPfP5k",
        "outputId": "7201b982-62c0-460f-9956-b24a32dbcecc"
      },
      "execution_count": null,
      "outputs": [
        {
          "output_type": "stream",
          "name": "stdout",
          "text": [
            "\n",
            "DataFrame with Salary:\n",
            "       Name  Age       City  Salary\n",
            "0       Adi   25      Dubai   50000\n",
            "1      Dito   30   Thailand   60000\n",
            "2  Chinmmya   35    Kashmir   70000\n",
            "3      Beta   28  Rajasthan   55000\n"
          ]
        }
      ]
    },
    {
      "cell_type": "code",
      "source": [
        "# 4. Find the rows where Age is greater than 30\n",
        "age_gt_30 = df[df['Age'] > 30]\n",
        "print(\"\\nPeople with Age > 30:\")\n",
        "print(age_gt_30)"
      ],
      "metadata": {
        "colab": {
          "base_uri": "https://localhost:8080/"
        },
        "id": "PKmwac3DhTr6",
        "outputId": "6bdb85f4-c5e6-4189-cd79-e7fb51111219"
      },
      "execution_count": null,
      "outputs": [
        {
          "output_type": "stream",
          "name": "stdout",
          "text": [
            "\n",
            "People with Age > 30:\n",
            "       Name  Age     City  Salary\n",
            "2  Chinmmya   35  Kashmir   70000\n"
          ]
        }
      ]
    },
    {
      "cell_type": "code",
      "source": [
        "# 5. Change the city of 'Dito' to 'Dubai'\n",
        "df.loc[df['Name'] == 'Dito', 'City'] = 'Dubai'\n",
        "print(\"\\nUpdated City for Dito:\")\n",
        "print(df)"
      ],
      "metadata": {
        "colab": {
          "base_uri": "https://localhost:8080/"
        },
        "id": "9Y_ngKGIkEvX",
        "outputId": "fe103c1f-f4f3-4970-f44c-cc904bf92072"
      },
      "execution_count": null,
      "outputs": [
        {
          "output_type": "stream",
          "name": "stdout",
          "text": [
            "\n",
            "Updated City for Dito:\n",
            "       Name  Age       City  Salary\n",
            "0       Adi   25      Dubai   50000\n",
            "1      Dito   30      Dubai   60000\n",
            "2  Chinmmya   35    Kashmir   70000\n",
            "3      Beta   28  Rajasthan   55000\n"
          ]
        }
      ]
    },
    {
      "cell_type": "code",
      "source": [
        "#6. Drop the column 'City' from the DataFrame\n",
        "df_dropped = df.drop('City', axis=1)\n",
        "print(\"\\nDataFrame without City column:\")\n",
        "print(df_dropped)"
      ],
      "metadata": {
        "colab": {
          "base_uri": "https://localhost:8080/"
        },
        "id": "9YHv7La6lO8m",
        "outputId": "99c34d36-3bad-4c3e-f840-052859b6258d"
      },
      "execution_count": null,
      "outputs": [
        {
          "output_type": "stream",
          "name": "stdout",
          "text": [
            "\n",
            "DataFrame without City column:\n",
            "       Name  Age  Salary\n",
            "0       Adi   25   50000\n",
            "1      Dito   30   60000\n",
            "2  Chinmmya   35   70000\n",
            "3      Beta   28   55000\n"
          ]
        }
      ]
    },
    {
      "cell_type": "code",
      "source": [
        " #7. Find the average (mean) Age\n",
        "mean_age = df['Age'].mean()\n",
        "print(f\"\\nAverage Age: {mean_age}\")\n"
      ],
      "metadata": {
        "colab": {
          "base_uri": "https://localhost:8080/"
        },
        "id": "jcZg1rLsmAd9",
        "outputId": "52901109-94e4-4f04-d5e2-ce7f224017fe"
      },
      "execution_count": null,
      "outputs": [
        {
          "output_type": "stream",
          "name": "stdout",
          "text": [
            "\n",
            "Average Age: 29.5\n"
          ]
        }
      ]
    },
    {
      "cell_type": "code",
      "source": [
        "# 8. Check if there is any person from 'Dubai'\n",
        "has_dubai = 'Dubai' in df['City'].values\n",
        "print(f\"\\nIs anyone from Dubai? {has_dubai}\")"
      ],
      "metadata": {
        "colab": {
          "base_uri": "https://localhost:8080/"
        },
        "id": "DqhlTZPhmcOV",
        "outputId": "c330f33a-d9e5-4634-d1a7-debbf3360c23"
      },
      "execution_count": null,
      "outputs": [
        {
          "output_type": "stream",
          "name": "stdout",
          "text": [
            "\n",
            "Is anyone from Dubai? True\n"
          ]
        }
      ]
    },
    {
      "cell_type": "code",
      "source": [
        "#9. Search for a person named \"Dito\" and display their info\n",
        "dito_info = df[df['Name'] == 'Dito']\n",
        "print(\"\\nInformation of Dito:\")\n",
        "print(dito_info)"
      ],
      "metadata": {
        "colab": {
          "base_uri": "https://localhost:8080/"
        },
        "id": "aBormMU_m77k",
        "outputId": "a5384795-35c6-4286-e018-e871a924f180"
      },
      "execution_count": null,
      "outputs": [
        {
          "output_type": "stream",
          "name": "stdout",
          "text": [
            "\n",
            "Information of Dito:\n",
            "   Name  Age   City  Salary\n",
            "1  Dito   30  Dubai   60000\n"
          ]
        }
      ]
    },
    {
      "cell_type": "code",
      "source": [
        "# 10. Count the number of people in each city\n",
        "city_counts = df['City'].value_counts()\n",
        "print(\"\\nNumber of people in each city:\")\n",
        "print(city_counts)"
      ],
      "metadata": {
        "colab": {
          "base_uri": "https://localhost:8080/"
        },
        "id": "w4vj7cBini98",
        "outputId": "bf1a4bf5-d22b-496f-df14-eb57ec1b7ff2"
      },
      "execution_count": null,
      "outputs": [
        {
          "output_type": "stream",
          "name": "stdout",
          "text": [
            "\n",
            "Number of people in each city:\n",
            "City\n",
            "Dubai        2\n",
            "Kashmir      1\n",
            "Rajasthan    1\n",
            "Name: count, dtype: int64\n"
          ]
        }
      ]
    },
    {
      "cell_type": "code",
      "source": [
        "# 11. Find the person with the maximum salary\n",
        "max_salary_person = df[df['Salary'] == df['Salary'].max()]\n",
        "print(\"\\nPerson with the maximum salary:\")\n",
        "print(max_salary_person)"
      ],
      "metadata": {
        "colab": {
          "base_uri": "https://localhost:8080/"
        },
        "id": "0FP0k8IcoXPr",
        "outputId": "0a41d36b-e05b-480a-cec0-d72aea596a24"
      },
      "execution_count": null,
      "outputs": [
        {
          "output_type": "stream",
          "name": "stdout",
          "text": [
            "\n",
            "Person with the maximum salary:\n",
            "       Name  Age     City  Salary\n",
            "2  Chinmmya   35  Kashmir   70000\n"
          ]
        }
      ]
    },
    {
      "cell_type": "markdown",
      "source": [
        "### Week-03"
      ],
      "metadata": {
        "id": "T0XPhYMPnsAR"
      }
    },
    {
      "cell_type": "code",
      "source": [
        "#Array Aggregation Function\n",
        "\n",
        "import numpy as np\n",
        "#sum\n",
        "arr = np.array([1, 2, 3, 4, 5])\n",
        "print(\"sum:\",arr.sum())\n",
        "\n",
        "#mean\n",
        "print(\"mean\",arr.mean())\n",
        "\n",
        "#min/max\n",
        "print(\"min\",arr.min())\n",
        "print(\"max\",arr.max())"
      ],
      "metadata": {
        "colab": {
          "base_uri": "https://localhost:8080/"
        },
        "id": "h2RS-vjonuqI",
        "outputId": "7941cd9a-3711-4076-ddc7-1e9d1b927591"
      },
      "execution_count": 2,
      "outputs": [
        {
          "output_type": "stream",
          "name": "stdout",
          "text": [
            "sum: 15\n",
            "mean 3.0\n",
            "min 1\n",
            "max 5\n"
          ]
        }
      ]
    },
    {
      "cell_type": "code",
      "source": [
        "# Getting largest element of an array from individual axis\n",
        "import numpy as np\n",
        "import random\n",
        "array1=np.random .randint(16,size=(4,4))\n",
        "print(\"input Array:\\n\",array1)\n",
        "print (\"largest number in x axis: \", np.max(array1,axis=1))\n",
        "print (\"largest number in x axis: \", np.max(array1,axis=0))\n",
        "print(\"Standard deviation:\", array1.std())"
      ],
      "metadata": {
        "id": "XoI_T3bGnzwA"
      },
      "execution_count": null,
      "outputs": []
    },
    {
      "cell_type": "code",
      "source": [
        "import numpy as np\n",
        "\n",
        "arr = np.array([1, 2, 3])\n",
        "\n",
        "print(\"sin   :\", np.sin(arr))\n",
        "print(\"cos   :\", np.cos(arr))\n",
        "print(\"tan   :\", np.tan(arr))\n",
        "print(\"cosec :\", 1 / np.sin(arr))\n",
        "print(\"sec   :\", 1 / np.cos(arr))\n",
        "print(\"cot   :\", 1 / np.tan(arr))\n",
        "\n",
        "\n"
      ],
      "metadata": {
        "colab": {
          "base_uri": "https://localhost:8080/"
        },
        "id": "n9t1Coa1Y_lu",
        "outputId": "b85793ba-fb73-4567-85b5-9f2500a00b32"
      },
      "execution_count": null,
      "outputs": [
        {
          "output_type": "stream",
          "name": "stdout",
          "text": [
            "sin   : [0.84147098 0.90929743 0.14112001]\n",
            "cos   : [ 0.54030231 -0.41614684 -0.9899925 ]\n",
            "tan   : [ 1.55740772 -2.18503986 -0.14254654]\n",
            "cosec : [1.18839511 1.09975017 7.0861674 ]\n",
            "sec   : [ 1.85081572 -2.40299796 -1.01010867]\n",
            "cot   : [ 0.64209262 -0.45765755 -7.01525255]\n"
          ]
        }
      ]
    },
    {
      "cell_type": "code",
      "source": [
        "from functools import reduce\n",
        "arr=[1, 2, 3, 4]\n",
        "total = reduce(lambda x, y: x + y, arr)\n",
        "print(\"Sum using reduce:\", total)\n"
      ],
      "metadata": {
        "colab": {
          "base_uri": "https://localhost:8080/"
        },
        "id": "SYXPNaKchnL9",
        "outputId": "01df4024-b8bb-4707-91b7-ee950deac21f"
      },
      "execution_count": null,
      "outputs": [
        {
          "output_type": "stream",
          "name": "stdout",
          "text": [
            "Sum using reduce: 10\n"
          ]
        }
      ]
    }
  ],
  "metadata": {
    "colab": {
      "provenance": [],
      "authorship_tag": "ABX9TyPSw/buj+zttgOmT3qzznYD",
      "include_colab_link": true
    },
    "kernelspec": {
      "display_name": "Python 3",
      "name": "python3"
    },
    "language_info": {
      "name": "python"
    }
  },
  "nbformat": 4,
  "nbformat_minor": 0
}